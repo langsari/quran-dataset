{
 "metadata": {
  "language_info": {
   "codemirror_mode": {
    "name": "ipython",
    "version": 3
   },
   "file_extension": ".py",
   "mimetype": "text/x-python",
   "name": "python",
   "nbconvert_exporter": "python",
   "pygments_lexer": "ipython3",
   "version": "3.8.5-final"
  },
  "orig_nbformat": 2,
  "kernelspec": {
   "name": "python38564bit948ab23d928642b78ac9f9789d0959b9",
   "display_name": "Python 3.8.5 64-bit"
  }
 },
 "nbformat": 4,
 "nbformat_minor": 2,
 "cells": [
  {
   "source": [
    "# Data Acquisition"
   ],
   "cell_type": "markdown",
   "metadata": {}
  },
  {
   "cell_type": "code",
   "execution_count": 1,
   "metadata": {},
   "outputs": [],
   "source": [
    "import pandas as pd \n",
    "import numpy as np\n",
    "import requests\n",
    "from bs4 import BeautifulSoup\n",
    "from time import sleepimport json"
   ]
  },
  {
   "cell_type": "code",
   "execution_count": 2,
   "metadata": {},
   "outputs": [],
   "source": [
    "titles = []\n",
    "translation = []"
   ]
  },
  {
   "cell_type": "code",
   "execution_count": 3,
   "metadata": {},
   "outputs": [
    {
     "output_type": "execute_result",
     "data": {
      "text/plain": [
       "array([  1,   2,   3,   4,   5,   6,   7,   8,   9,  10,  11,  12,  13,\n",
       "        14,  15,  16,  17,  18,  19,  20,  21,  22,  23,  24,  25,  26,\n",
       "        27,  28,  29,  30,  31,  32,  33,  34,  35,  36,  37,  38,  39,\n",
       "        40,  41,  42,  43,  44,  45,  46,  47,  48,  49,  50,  51,  52,\n",
       "        53,  54,  55,  56,  57,  58,  59,  60,  61,  62,  63,  64,  65,\n",
       "        66,  67,  68,  69,  70,  71,  72,  73,  74,  75,  76,  77,  78,\n",
       "        79,  80,  81,  82,  83,  84,  85,  86,  87,  88,  89,  90,  91,\n",
       "        92,  93,  94,  95,  96,  97,  98,  99, 100, 101, 102, 103, 104,\n",
       "       105, 106, 107, 108, 109, 110, 111, 112, 113, 114])"
      ]
     },
     "metadata": {},
     "execution_count": 3
    }
   ],
   "source": [
    "pages = np.arange(1,115)\n",
    "pages"
   ]
  },
  {
   "cell_type": "code",
   "execution_count": 10,
   "metadata": {
    "tags": []
   },
   "outputs": [],
   "source": [
    "for page in pages:\n",
    "    page = requests.get('https://aaiil.org/text/hq/trans/ch'+ str(page) +'.shtml')\n",
    "    df = BeautifulSoup(page.text, 'html.parser')\n",
    "    trans = df.find_all('div', id='divMainColEtc')\n",
    "    for container in trans:\n",
    "        sura = container.find_all('p')\n",
    "        for surah in sura:\n",
    "            surah_con = surah\n",
    "            translation.append(surah_con)"
   ]
  },
  {
   "cell_type": "code",
   "execution_count": 11,
   "metadata": {},
   "outputs": [],
   "source": [
    "surah = pd.DataFrame({\n",
    "    'Translation':translation\n",
    "})"
   ]
  },
  {
   "cell_type": "code",
   "execution_count": 12,
   "metadata": {},
   "outputs": [
    {
     "output_type": "execute_result",
     "data": {
      "text/plain": [
       "                                             Translation\n",
       "1      [[1:1],  Praise be to Allah, the Lord of the w...\n",
       "2                [[1:2],  The Beneficent, the Merciful,]\n",
       "3               [[1:3],  Master of the day of Requital.]\n",
       "4      [[1:4],  Thee do we serve and Thee do we besee...\n",
       "5                  [[1:5],  Guide us on the right path,]\n",
       "...                                                  ...\n",
       "12695                      [[114:2],  The King of  men,]\n",
       "12696                       [[114:3],  The God of  men,]\n",
       "12697  [[114:4],  From the evil  of the whisperings o...\n",
       "12698  [[114:5],  Who whispers  into the hearts of men,]\n",
       "12699      [[114:6],  From among  the jinn and the men.]\n",
       "\n",
       "[12699 rows x 1 columns]"
      ],
      "text/html": "<div>\n<style scoped>\n    .dataframe tbody tr th:only-of-type {\n        vertical-align: middle;\n    }\n\n    .dataframe tbody tr th {\n        vertical-align: top;\n    }\n\n    .dataframe thead th {\n        text-align: right;\n    }\n</style>\n<table border=\"1\" class=\"dataframe\">\n  <thead>\n    <tr style=\"text-align: right;\">\n      <th></th>\n      <th>Translation</th>\n    </tr>\n  </thead>\n  <tbody>\n    <tr>\n      <th>1</th>\n      <td>[[1:1],  Praise be to Allah, the Lord of the w...</td>\n    </tr>\n    <tr>\n      <th>2</th>\n      <td>[[1:2],  The Beneficent, the Merciful,]</td>\n    </tr>\n    <tr>\n      <th>3</th>\n      <td>[[1:3],  Master of the day of Requital.]</td>\n    </tr>\n    <tr>\n      <th>4</th>\n      <td>[[1:4],  Thee do we serve and Thee do we besee...</td>\n    </tr>\n    <tr>\n      <th>5</th>\n      <td>[[1:5],  Guide us on the right path,]</td>\n    </tr>\n    <tr>\n      <th>...</th>\n      <td>...</td>\n    </tr>\n    <tr>\n      <th>12695</th>\n      <td>[[114:2],  The King of  men,]</td>\n    </tr>\n    <tr>\n      <th>12696</th>\n      <td>[[114:3],  The God of  men,]</td>\n    </tr>\n    <tr>\n      <th>12697</th>\n      <td>[[114:4],  From the evil  of the whisperings o...</td>\n    </tr>\n    <tr>\n      <th>12698</th>\n      <td>[[114:5],  Who whispers  into the hearts of men,]</td>\n    </tr>\n    <tr>\n      <th>12699</th>\n      <td>[[114:6],  From among  the jinn and the men.]</td>\n    </tr>\n  </tbody>\n</table>\n<p>12699 rows × 1 columns</p>\n</div>"
     },
     "metadata": {},
     "execution_count": 12
    }
   ],
   "source": [
    "surah[1:]"
   ]
  },
  {
   "cell_type": "code",
   "execution_count": 56,
   "metadata": {},
   "outputs": [
    {
     "output_type": "execute_result",
     "data": {
      "text/plain": [
       "                                              Translation\n",
       "count                                                6350\n",
       "unique                                               6238\n",
       "top     [In the name of Allah, the Beneficent, the Mer...\n",
       "freq                                                  113"
      ],
      "text/html": "<div>\n<style scoped>\n    .dataframe tbody tr th:only-of-type {\n        vertical-align: middle;\n    }\n\n    .dataframe tbody tr th {\n        vertical-align: top;\n    }\n\n    .dataframe thead th {\n        text-align: right;\n    }\n</style>\n<table border=\"1\" class=\"dataframe\">\n  <thead>\n    <tr style=\"text-align: right;\">\n      <th></th>\n      <th>Translation</th>\n    </tr>\n  </thead>\n  <tbody>\n    <tr>\n      <th>count</th>\n      <td>6350</td>\n    </tr>\n    <tr>\n      <th>unique</th>\n      <td>6238</td>\n    </tr>\n    <tr>\n      <th>top</th>\n      <td>[In the name of Allah, the Beneficent, the Mer...</td>\n    </tr>\n    <tr>\n      <th>freq</th>\n      <td>113</td>\n    </tr>\n  </tbody>\n</table>\n</div>"
     },
     "metadata": {},
     "execution_count": 56
    }
   ],
   "source": [
    "surah.describe()"
   ]
  },
  {
   "source": [
    "# Data Preparation"
   ],
   "cell_type": "markdown",
   "metadata": {}
  },
  {
   "cell_type": "code",
   "execution_count": 6,
   "metadata": {},
   "outputs": [],
   "source": [
    "surah = surah[1:].style.set_properties(**{'text-align':'left'})"
   ]
  },
  {
   "cell_type": "code",
   "execution_count": 57,
   "metadata": {},
   "outputs": [],
   "source": [
    "AlFatihah = surah.iloc[0:9]\n",
    "AlBaqarah = surah.iloc[8:295]"
   ]
  },
  {
   "source": [
    "## AlFatihah"
   ],
   "cell_type": "markdown",
   "metadata": {}
  },
  {
   "cell_type": "code",
   "execution_count": 110,
   "metadata": {},
   "outputs": [
    {
     "output_type": "execute_result",
     "data": {
      "text/plain": [
       "<pandas.io.formats.style.Styler at 0x7f206c87bbb0>"
      ],
      "text/html": "<style  type=\"text/css\" >\n#T_1719460e_3450_11eb_925c_11698d7fb685row0_col0,#T_1719460e_3450_11eb_925c_11698d7fb685row1_col0,#T_1719460e_3450_11eb_925c_11698d7fb685row2_col0,#T_1719460e_3450_11eb_925c_11698d7fb685row3_col0,#T_1719460e_3450_11eb_925c_11698d7fb685row4_col0,#T_1719460e_3450_11eb_925c_11698d7fb685row5_col0,#T_1719460e_3450_11eb_925c_11698d7fb685row6_col0,#T_1719460e_3450_11eb_925c_11698d7fb685row7_col0,#T_1719460e_3450_11eb_925c_11698d7fb685row8_col0{\n            text-align:  left;\n        }</style><table id=\"T_1719460e_3450_11eb_925c_11698d7fb685\" ><thead>    <tr>        <th class=\"blank level0\" ></th>        <th class=\"col_heading level0 col0\" >Translation</th>    </tr></thead><tbody>\n                <tr>\n                        <th id=\"T_1719460e_3450_11eb_925c_11698d7fb685level0_row0\" class=\"row_heading level0 row0\" >0</th>\n                        <td id=\"T_1719460e_3450_11eb_925c_11698d7fb685row0_col0\" class=\"data row0 col0\" ><p class=\"bism\">In the name of Allah, the Beneficent, the Merciful.</p></td>\n            </tr>\n            <tr>\n                        <th id=\"T_1719460e_3450_11eb_925c_11698d7fb685level0_row1\" class=\"row_heading level0 row1\" >1</th>\n                        <td id=\"T_1719460e_3450_11eb_925c_11698d7fb685row1_col0\" class=\"data row1 col0\" ><p><span class=\"HQverse\">1:1</span> Praise be to Allah, the Lord of the worlds,</p></td>\n            </tr>\n            <tr>\n                        <th id=\"T_1719460e_3450_11eb_925c_11698d7fb685level0_row2\" class=\"row_heading level0 row2\" >2</th>\n                        <td id=\"T_1719460e_3450_11eb_925c_11698d7fb685row2_col0\" class=\"data row2 col0\" ><p><span class=\"HQverse\">1:2</span> The Beneficent, the Merciful,</p></td>\n            </tr>\n            <tr>\n                        <th id=\"T_1719460e_3450_11eb_925c_11698d7fb685level0_row3\" class=\"row_heading level0 row3\" >3</th>\n                        <td id=\"T_1719460e_3450_11eb_925c_11698d7fb685row3_col0\" class=\"data row3 col0\" ><p><span class=\"HQverse\">1:3</span> Master of the day of Requital.</p></td>\n            </tr>\n            <tr>\n                        <th id=\"T_1719460e_3450_11eb_925c_11698d7fb685level0_row4\" class=\"row_heading level0 row4\" >4</th>\n                        <td id=\"T_1719460e_3450_11eb_925c_11698d7fb685row4_col0\" class=\"data row4 col0\" ><p><span class=\"HQverse\">1:4</span> Thee do we serve and Thee do we beseech for help.</p></td>\n            </tr>\n            <tr>\n                        <th id=\"T_1719460e_3450_11eb_925c_11698d7fb685level0_row5\" class=\"row_heading level0 row5\" >5</th>\n                        <td id=\"T_1719460e_3450_11eb_925c_11698d7fb685row5_col0\" class=\"data row5 col0\" ><p><span class=\"HQverse\">1:5</span> Guide us on the right path,</p></td>\n            </tr>\n            <tr>\n                        <th id=\"T_1719460e_3450_11eb_925c_11698d7fb685level0_row6\" class=\"row_heading level0 row6\" >6</th>\n                        <td id=\"T_1719460e_3450_11eb_925c_11698d7fb685row6_col0\" class=\"data row6 col0\" ><p><span class=\"HQverse\">1:6</span> The path of those upon whom Thou hast bestowed favours,</p></td>\n            </tr>\n            <tr>\n                        <th id=\"T_1719460e_3450_11eb_925c_11698d7fb685level0_row7\" class=\"row_heading level0 row7\" >7</th>\n                        <td id=\"T_1719460e_3450_11eb_925c_11698d7fb685row7_col0\" class=\"data row7 col0\" ><p><span class=\"HQverse\">1:7</span> Not those upon whom wrath is brought down, nor those who go astray.</p></td>\n            </tr>\n            <tr>\n                        <th id=\"T_1719460e_3450_11eb_925c_11698d7fb685level0_row8\" class=\"row_heading level0 row8\" >8</th>\n                        <td id=\"T_1719460e_3450_11eb_925c_11698d7fb685row8_col0\" class=\"data row8 col0\" ><p class=\"bism\">In the name of Allah, the Beneficent, the Merciful.</p></td>\n            </tr>\n    </tbody></table>"
     },
     "metadata": {},
     "execution_count": 110
    }
   ],
   "source": [
    "AlFatihah.style.set_properties(**{'text-align': 'left'})"
   ]
  }
 ]
}