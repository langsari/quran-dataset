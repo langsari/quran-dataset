{
 "metadata": {
  "language_info": {
   "codemirror_mode": {
    "name": "ipython",
    "version": 3
   },
   "file_extension": ".py",
   "mimetype": "text/x-python",
   "name": "python",
   "nbconvert_exporter": "python",
   "pygments_lexer": "ipython3",
   "version": "3.8.3-final"
  },
  "orig_nbformat": 2,
  "kernelspec": {
   "name": "python3",
   "display_name": "Python 3"
  }
 },
 "nbformat": 4,
 "nbformat_minor": 2,
 "cells": [
  {
   "cell_type": "code",
   "execution_count": 1,
   "metadata": {},
   "outputs": [],
   "source": [
    "import pandas as pd\n",
    "import numpy as numpy\n",
    "import requests"
   ]
  },
  {
   "cell_type": "code",
   "execution_count": 2,
   "metadata": {},
   "outputs": [
    {
     "output_type": "execute_result",
     "data": {
      "text/plain": [
       "or Allah - this reaches their \"partners.\" Evil is that which they rule.'},\n",
       "   '926': {'surah': 6,\n",
       "    'ayah': 137,\n",
       "    'verse': 'And likewise, to many of the polytheists their partners have made [to seem] pleasing the killing of their children in order to bring about their destruction and to cover them with confusion in their religion. And if Allah had willed, they would not have done so. So leave them and that which they invent.'},\n",
       "   '927': {'surah': 6,\n",
       "    'ayah': 138,\n",
       "    'verse': 'And they say, \"These animals and crops are forbidden; no one may eat from them except whom we will,\" by their claim. And there are those [camels] whose backs are forbidden [by them] and those upon which the name of Allah is not mentioned - [all of this] an invention of untruth about Him. He will punish them for what they were inventing.'},\n",
       "   '928': {'surah': 6,\n",
       "    'ayah': 139,\n",
       "    'verse': 'And they say, \"What is in the bellies of these animals is exclusively for our males and forbidden to our females. But if it is [born] dead, then all of them have shares therein.\" He will punish them for their description. Indeed, He is Wise and Knowing.'},\n",
       "   '929': {'surah': 6,\n",
       "    'ayah': 140,\n",
       "    'verse': 'Those will have lost who killed their children in foolishness without knowledge and prohibited what Allah had provided for them, inventing untruth about Allah. They have gone astray and were not [rightly] guided.'},\n",
       "   '930': {'surah': 6,\n",
       "    'ayah': 141,\n",
       "    'verse': 'And He it is who causes gardens to grow, [both] trellised and untrellised, and palm trees and crops of different [kinds of] food and olives and pomegranates, similar and dissimilar. Eat of [each of] its fruit when it yields and give its due [zakah] on the day of its harvest. And be not excessive. Indeed, He does not like those who commit excess.'},\n",
       "   '931': {'surah': 6,\n",
       "    'ayah': 142,\n",
       "    'verse': 'And of the grazing livestock are carriers [of burdens] and those [too] small. Eat of what Allah has provided for you and do not follow the footsteps of Satan. Indeed, he is to you a clear enemy.'},\n",
       "   '932': {'surah': 6,\n",
       "    'ayah': 143,\n",
       "    'verse': '[They are] eight mates - of the sheep, two and of the goats, two. Say, \"Is it the two males He has forbidden or the two females or that which the wombs of the two females contain? Inform me with knowledge, if you should be truthful.\"'},\n",
       "   '933': {'surah': 6,\n",
       "    'ayah': 144,\n",
       "    'verse': 'And of the camels, two and of the cattle, two. Say, \"Is it the two males He has forbidden or the two females or that which the wombs of the two females contain? Or were you witnesses when Allah charged you with this? Then who is more unjust than one who invents a lie about Allah to mislead the people by [something] other than knowledge? Indeed, Allah does not guide the wrongdoing people.\"'},\n",
       "   '934': {'surah': 6,\n",
       "    'ayah': 145,\n",
       "    'verse': 'Say, \"I do not find within that which was revealed to me [anything] forbidden to one who would eat it unless it be a dead animal or blood spilled out or the flesh of swine - for indeed, it is impure - or it be [that slaughtered in] disobedience, dedicated to other than Allah. But whoever is forced [by necessity], neither desiring [it] nor transgressing [its limit], then indeed, your Lord is Forgiving and Merciful.\"'},\n",
       "   '935': {'surah': 6,\n",
       "    'ayah': 146,\n",
       "    'verse': 'And to those who are Jews We prohibited every animal of uncloven hoof; and of the cattle and the sheep We prohibited to them their fat, except what adheres to their backs or the entrails or what is joined with bone. [By] that We repaid them for their injustice. And indeed, We are truthful.'},\n",
       "   '936': {'surah': 6,\n",
       "    'ayah': 147,\n",
       "    'verse': 'So if they deny you, [O Muhammad], say, \"Your Lord is the possessor of vast mercy; but His punishment cannot be repelled from the people who are criminals.\"'},\n",
       "   '937': {'surah': 6,\n",
       "    'ayah': 148,\n",
       "    'verse': 'Those who associated with Allah will say, \"If Allah had willed, we would not have associated [anything] and neither would our fathers, nor would we have prohibited anything.\" Likewise did those before deny until they tasted Our punishment. Say, \"Do you have any knowledge that you can produce for us? You follow not except assumption, and you are not but falsifying.\"'},\n",
       "   '938': {'surah': 6,\n",
       "    'ayah': 149,\n",
       "    'verse': 'Say, \"With Allah is the far-reaching argument. If He had willed, He would have guided you all.\"'},\n",
       "   '939': {'surah': 6,\n",
       "    'ayah': 150,\n",
       "    'verse': 'Say, [O Muhammad], \"Bring forward your witnesses who will testify that Allah has prohibited this.\" And if they testify, do not testify with them. And do not follow the desires of those who deny Our verses and those who do not believe in the Hereafter, while they equate [others] with their Lord.'},\n",
       "   '940': {'surah': 6,\n",
       "    'ayah': 151,\n",
       "    'verse': 'Say, \"Come, I will recite what your Lord has prohibited to you. [He commands] that you not associate anything with Him, and to parents, good treatment, and do not kill your children out of poverty; We will provide for you and them. And do not approach immoralities - what is apparent of them and what is concealed. And do not kill the soul which Allah has forbidden [to be killed] except by [legal] right. This has He instructed you that you may use reason.\"'},\n",
       "   '941': {'surah': 6,\n",
       "    'ayah': 152,\n",
       "    'verse': \"And do not approach the orphan's property except in a way that is best until he reaches maturity. And give full measure and weight in justice. We do not charge any soul except [with that within] its capacity. And when you testify, be just, even if [it concerns] a near relative. And the covenant of Allah fulfill. This has He instructed you that you may remember.\"},\n",
       "   '942': {'surah': 6,\n",
       "    'ayah': 153,\n",
       "    'verse': 'And, [moreover], this is My path, which is straight, so follow it; and do not follow [other] ways, for you will be separated from His way. This has He instructed you that you may become righteous.'},\n",
       "   '943': {'surah': 6,\n",
       "    'ayah': 154,\n",
       "    'verse': 'Then We gave Moses the Scripture, making complete [Our favor] upon the one who did good and as a detailed explanation of all things and as guidance and mercy that perhaps in [the matter of] the meeting with their Lord they would believe.'},\n",
       "   '944': {'surah': 6,\n",
       "    'ayah': 155,\n",
       "    'verse': \"And this [Qur'an] is a Book We have revealed [which is] blessed, so follow it and fear Allah that you may receive mercy.\"},\n",
       "   '945': {'surah': 6,\n",
       "    'ayah': 156,\n",
       "    'verse': '[We revealed it] lest you say, \"The Scripture was only sent down to two groups before us, but we were of their study unaware,\"'},\n",
       "   '946': {'surah': 6,\n",
       "    'ayah': 157,\n",
       "    'verse': 'Or lest you say, \"If only the Scripture had been revealed to us, we would have been better guided than they.\" So there has [now] come to you a clear evidence from your Lord and a guidance and mercy. Then who is more unjust than one who denies the verses of Allah and turns away from them? We will recompense those who turn away from Our verses with the worst of punishment for their having turned away.'},\n",
       "   '947': {'surah': 6,\n",
       "    'ayah': 158,\n",
       "    'verse': 'Do they [then] wait for anything except that the angels should come to them or your Lord should come or that there come some of the signs of your Lord? The Day that some of the signs of your Lord will come no soul will benefit from its faith as long as it had not believed before or had earned through its faith some good. Say, \"Wait. Indeed, we [also] are waiting.\"'},\n",
       "   '948': {'surah': 6,\n",
       "    'ayah': 159,\n",
       "    'verse': 'Indeed, those who have divided their religion and become sects - you, [O Muhammad], are not [associated] with them in anything. Their affair is only [left] to Allah; then He will inform them about what they used to do.'},\n",
       "   '949': {'surah': 6,\n",
       "    'ayah': 160,\n",
       "    'verse': 'Whoever comes [on the Day of Judgement] with a good deed will have ten times the like thereof [to his credit], and whoever comes with an evil deed will not be recompensed except the like thereof; and they will not be wronged.'},\n",
       "   '950': {'surah': 6,\n",
       "    'ayah': 161,\n",
       "    'verse': 'Say, \"Indeed, my Lord has guided me to a straight path - a correct religion - the way of Abraham, inclining toward truth. And he was not among those who associated others with Allah.\"'},\n",
       "   '951': {'surah': 6,\n",
       "    'ayah': 162,\n",
       "    'verse': 'Say, \"Indeed, my prayer, my rites of sacrifice, my living and my dying are for Allah, Lord of the worlds.'},\n",
       "   '952': {'surah': 6,\n",
       "    'ayah': 163,\n",
       "    'verse': 'No partner has He. And this I have been commanded, and I am the first [among you] of the Muslims.\"'},\n",
       "   '953': {'surah': 6,\n",
       "    'ayah': 164,\n",
       "    'verse': 'Say, \"Is it other than Allah I should desire as a lord while He is the Lord of all things? And every soul earns not [blame] except against itself, and no bearer of burdens will bear the burden of another. Then to your Lord is your return, and He will inform you concerning that over which you used to differ.\"'},\n",
       "   '954': {'surah': 6,\n",
       "    'ayah': 165,\n",
       "    'verse': 'And it is He who has made you successors upon the earth and has raised some of you above others in degrees [of rank] that He may try you through what He has given you. Indeed, your Lord is swift in penalty; but indeed, He is Forgiving and Merciful.'},\n",
       "   '955': {'surah': 7, 'ayah': 1, 'verse': 'Alif, Lam, Meem, Sad.'},\n",
       "   '956': {'surah': 7,\n",
       "    'ayah': 2,\n",
       "    'verse': '[This is] a Book revealed to you, [O Muhammad] - so let there not be in your breast distress therefrom - that you may warn thereby and as a reminder to the believers.'},\n",
       "   '957': {'surah': 7,\n",
       "    'ayah': 3,\n",
       "    'verse': 'Follow, [O mankind], what has been revealed to you from your Lord and do not follow other than Him any allies. Little do you remember.'},\n",
       "   '958': {'surah': 7,\n",
       "    'ayah': 4,\n",
       "    'verse': 'And how many cities have We destroyed, and Our punishment came to them at night or while they were sleeping at noon.'},\n",
       "   '959': {'surah': 7,\n",
       "    'ayah': 5,\n",
       "    'verse': 'And their declaration when Our punishment came to them was only that they said, \"Indeed, we were wrongdoers!\"'},\n",
       "   '960': {'surah': 7,\n",
       "    'ayah': 6,\n",
       "    'verse': 'Then We will surely question those to whom [a message] was sent, and We will surely question the messengers.'},\n",
       "   '961': {'surah': 7,\n",
       "    'ayah': 7,\n",
       "    'verse': 'Then We will surely relate [their deeds] to them with knowledge, and We were not [at all] absent.'},\n",
       "   '962': {'surah': 7,\n",
       "    'ayah': 8,\n",
       "    'verse': 'And the weighing [of deeds] that Day will be the truth. So those whose scales are heavy - it is they who will be the successful.'},\n",
       "   '963': {'surah': 7,\n",
       "    'ayah': 9,\n",
       "    'verse': 'And those whose scales are light - they are the ones who will lose themselves for what injustice they were doing toward Our verses.'},\n",
       "   '964': {'surah': 7,\n",
       "    'ayah': 10,\n",
       "    'verse': 'And We have certainly established you upon the earth and made for you therein ways of livelihood. Little are you grateful.'},\n",
       "   '965': {'surah': 7,\n",
       "    'ayah': 11,\n",
       "    'verse': 'And We have certainly created you, [O Mankind], and given you [human] form. Then We said to the angels, \"Prostrate to Adam\"; so they prostrated, except for Iblees. He was not of those who prostrated.'},\n",
       "   '966': {'surah': 7,\n",
       "    'ayah': 12,\n",
       "    'verse': '[Allah] said, \"What prevented you from prostrating when I commanded you?\" [Satan] said, \"I am better than him. You created me from fire and created him from clay.\"'},\n",
       "   '967': {'surah': 7,\n",
       "    'ayah': 13,\n",
       "    'verse': '[Allah] said, \"Descend from Paradise, for it is not for you to be arrogant therein. So get out; indeed, you are of the debased.'},\n",
       "   '968': {'surah': 7,\n",
       "    'ayah': 14,\n",
       "    'verse': '[Satan] said, \"Reprieve me until the Day they are resurrected.\"'},\n",
       "   '969': {'surah': 7,\n",
       "    'ayah': 15,\n",
       "    'verse': '[Allah] said, \"Indeed, you are of those reprieved.\"'},\n",
       "   '970': {'surah': 7,\n",
       "    'ayah': 16,\n",
       "    'verse': '[Satan] said, \"Because You have put me in error, I will surely sit in wait for them on Your straight path.'},\n",
       "   '971': {'surah': 7,\n",
       "    'ayah': 17,\n",
       "    'verse': 'Then I will come to them from before them and from behind them and on their right and on their left, and You will not find most of them grateful [to You].\"'},\n",
       "   '972': {'surah': 7,\n",
       "    'ayah': 18,\n",
       "    'verse': '[Allah] said, \"Get out of Paradise, reproached and expelled. Whoever follows you among them - I will surely fill Hell with you, all together.\"'},\n",
       "   '973': {'surah': 7,\n",
       "    'ayah': 19,\n",
       "    'verse': 'And \"O Adam, dwell, you and your wife, in Paradise and eat from wherever you will but do not approach this tree, lest you be among the wrongdoers.\"'},\n",
       "   '974': {'surah': 7,\n",
       "    'ayah': 20,\n",
       "    'verse': 'But Satan whispered to them to make apparent to them that which was concealed from them of their private parts. He said, \"Your Lord did not forbid you this tree except that you become angels or become of the immortal.\"'},\n",
       "   '975': {'surah': 7,\n",
       "    'ayah': 21,\n",
       "    'verse': 'And he swore [by Allah] to them, \"Indeed, I am to you from among the sincere advisors.\"'},\n",
       "   '976': {'surah': 7,\n",
       "    'ayah': 22,\n",
       "    'verse': 'So he made them fall, through deception. And when they tasted of the tree, their private parts became apparent to them, and they began to fasten together over themselves from the leaves of Paradise. And their Lord called to them, \"Did I not forbid you from that tree and tell you that Satan is to you a clear enemy?\"'},\n",
       "   '977': {'surah': 7,\n",
       "    'ayah': 23,\n",
       "    'verse': 'They said, \"Our Lord, we have wronged ourselves, and if You do not forgive us and have mercy upon us, we will surely be among the losers.\"'},\n",
       "   '978': {'surah': 7,\n",
       "    'ayah': 24,\n",
       "    'verse': '[Allah] said, \"Descend, being to one another enemies. And for you on the earth is a place of settlement and enjoyment for a time.\"'},\n",
       "   '979': {'surah': 7,\n",
       "    'ayah': 25,\n",
       "    'verse': 'He said, \"Therein you will live, and therein you will die, and from it you will be brought forth.\"'},\n",
       "   '980': {'surah': 7,\n",
       "    'ayah': 26,\n",
       "    'verse': 'O children of Adam, We have bestowed upon you clothing to conceal your private parts and as adornment. But the clothing of righteousness - that is best. That is from the signs of Allah that perhaps they will remember.'},\n",
       "   '981': {'surah': 7,\n",
       "    'ayah': 27,\n",
       "    'verse': 'O children of Adam, let not Satan tempt you as he removed your parents from Paradise, stripping them of their clothing to show them their private parts. Indeed, he sees you, he and his tribe, from where you do not see them. Indeed, We have made the devils allies to those who do not believe.'},\n",
       "   '982': {'surah': 7,\n",
       "    'ayah': 28,\n",
       "    'verse': 'And when they commit an immorality, they say, \"We found our fathers doing it, and Allah has ordered us to do it.\" Say, \"Indeed, Allah does not order immorality. Do you say about Allah that which you do not know?\"'},\n",
       "   '983': {'surah': 7,\n",
       "    'ayah': 29,\n",
       "    'verse': 'Say, [O Muhammad], \"My Lord has ordered justice and that you maintain yourselves [in worship of Him] at every place [or time] of prostration, and invoke Him, sincere to Him in religion.\" Just as He originated you, you will return [to life] -'},\n",
       "   '984': {'surah': 7,\n",
       "    'ayah': 30,\n",
       "    'verse': 'A group [of you] He guided, and a group deserved [to be in] error. Indeed, they had taken the devils as allies instead of Allah while they thought that they were guided.'},\n",
       "   '985': {'surah': 7,\n",
       "    'ayah': 31,\n",
       "    'verse': 'O children of Adam, take your adornment at every masjid, and eat and drink, but be not excessive. Indeed, He likes not those who commit excess.'},\n",
       "   '986': {'surah': 7,\n",
       "    'ayah': 32,\n",
       "    'verse': 'Say, \"Who has forbidden the adornment of Allah which He has produced for His servants and the good [lawful] things of provision?\" Say, \"They are for those who believe during the worldly life [but] exclusively for them on the Day of Resurrection.\" Thus do We detail the verses for a people who know.'},\n",
       "   '987': {'surah': 7,\n",
       "    'ayah': 33,\n",
       "    'verse': 'Say, \"My Lord has only forbidden immoralities - what is apparent of them and what is concealed - and sin, and oppression without right, and that you associate with Allah that for which He has not sent down authority, and that you say about Allah that which you do not know.\"'},\n",
       "   '988': {'surah': 7,\n",
       "    'ayah': 34,\n",
       "    'verse': 'And for every nation is a [specified] term. So when their time has come, they will not remain behind an hour, nor will they precede [it].'},\n",
       "   '989': {'surah': 7,\n",
       "    'ayah': 35,\n",
       "    'verse': 'O children of Adam, if there come to you messengers from among you relating to you My verses, then whoever fears Allah and reforms - there will be no fear concerning them, nor will they grieve.'},\n",
       "   '990': {'surah': 7,\n",
       "    'ayah': 36,\n",
       "    'verse': 'But the ones who deny Our verses and are arrogant toward them - those are the companions of the Fire; they will abide therein eternally.'},\n",
       "   '991': {'surah': 7,\n",
       "    'ayah': 37,\n",
       "    'verse': 'And who is more unjust than one who invents about Allah a lie or denies His verses? Those will attain their portion of the decree until when Our messengers come to them to take them in death, they will say, \"Where are those you used to invoke besides Allah?\" They will say, \"They have departed from us,\" and will bear witness against themselves that they were disbelievers.'},\n",
       "   '992': {'surah': 7,\n",
       "    'ayah': 38,\n",
       "    'verse': '[Allah] will say, \"Enter among nations which had passed on before you of jinn and mankind into the Fire.\" Every time a nation enters, it will curse its sister until, when they have all overtaken one another therein, the last of them will say about the first of them \"Our Lord, these had misled us, so give them a double punishment of the Fire. He will say, \"For each is double, but you do not know.\"'},\n",
       "   '993': {'surah': 7,\n",
       "    'ayah': 39,\n",
       "    'verse': 'And the first of them will say to the last of them, \"Then you had not any favor over us, so taste the punishment for what you used to earn.\"'},\n",
       "   '994': {'surah': 7,\n",
       "    'ayah': 40,\n",
       "    'verse': 'Indeed, those who deny Our verses and are arrogant toward them - the gates of Heaven will not be opened for them, nor will they enter Paradise until a camel enters into the eye of a needle. And thus do We recompense the criminals.'},\n",
       "   '995': {'surah': 7,\n",
       "    'ayah': 41,\n",
       "    'verse': 'They will have from Hell a bed and over them coverings [of fire]. And thus do We recompense the wrongdoers.'},\n",
       "   '996': {'surah': 7,\n",
       "    'ayah': 42,\n",
       "    'verse': 'But those who believed and did righteous deeds - We charge no soul except [within] its capacity. Those are the companions of Paradise; they will abide therein eternally.'},\n",
       "   '997': {'surah': 7,\n",
       "    'ayah': 43,\n",
       "    'verse': 'And We will have removed whatever is within their breasts of resentment, [while] flowing beneath them are rivers. And they will say, \"Praise to Allah, who has guided us to this; and we would never have been guided if Allah had not guided us. Certainly the messengers of our Lord had come with the truth.\" And they will be called, \"This is Paradise, which you have been made to inherit for what you used to do.\"'},\n",
       "   '998': {'surah': 7,\n",
       "    'ayah': 44,\n",
       "    'verse': 'And the companions of Paradise will call out to the companions of the Fire, \"We have already found what our Lord promised us to be true. Have you found what your Lord promised to be true?\" They will say, \"Yes.\" Then an announcer will announce among them, \"The curse of Allah shall be upon the wrongdoers.\"'},\n",
       "   '999': {'surah': 7,\n",
       "    'ayah': 45,\n",
       "    'verse': 'Who averted [people] from the way of Allah and sought to make it [seem] deviant while they were, concerning the Hereafter, disbelievers.'},\n",
       "   '1000': {'surah': 7,\n",
       "    'ayah': 46,\n",
       "    'verse': 'And between them will be a partition, and on [its] elevations are men who recognize all by their mark. And they call out to the companions of Paradise, \"Peace be upon you.\" They have not [yet] entered it, but they long intensely.'},\n",
       "   ...}}}"
      ]
     },
     "metadata": {},
     "execution_count": 2
    }
   ],
   "source": [
    "url='http://destroyblackmagic.com/quran/data/en.sahih.json'\n",
    "r=requests.get(url)\n",
    "j=r.json()\n",
    "j"
   ]
  },
  {
   "cell_type": "code",
   "execution_count": 3,
   "metadata": {},
   "outputs": [
    {
     "output_type": "execute_result",
     "data": {
      "text/plain": [
       "                                                      quran\n",
       "en.sahih  {'1': {'surah': 1, 'ayah': 1, 'verse': 'In the..."
      ],
      "text/html": "<div>\n<style scoped>\n    .dataframe tbody tr th:only-of-type {\n        vertical-align: middle;\n    }\n\n    .dataframe tbody tr th {\n        vertical-align: top;\n    }\n\n    .dataframe thead th {\n        text-align: right;\n    }\n</style>\n<table border=\"1\" class=\"dataframe\">\n  <thead>\n    <tr style=\"text-align: right;\">\n      <th></th>\n      <th>quran</th>\n    </tr>\n  </thead>\n  <tbody>\n    <tr>\n      <th>en.sahih</th>\n      <td>{'1': {'surah': 1, 'ayah': 1, 'verse': 'In the...</td>\n    </tr>\n  </tbody>\n</table>\n</div>"
     },
     "metadata": {},
     "execution_count": 3
    }
   ],
   "source": [
    "url = 'http://destroyblackmagic.com/quran/data/en.sahih.json'\n",
    "df = pd.read_json(url)\n",
    "df"
   ]
  },
  {
   "cell_type": "code",
   "execution_count": 4,
   "metadata": {},
   "outputs": [
    {
     "output_type": "execute_result",
     "data": {
      "text/plain": [
       "                                                      quran\n",
       "en.sahih  {'1': {'surah': 1, 'ayah': 1, 'verse': 'In the..."
      ],
      "text/html": "<div>\n<style scoped>\n    .dataframe tbody tr th:only-of-type {\n        vertical-align: middle;\n    }\n\n    .dataframe tbody tr th {\n        vertical-align: top;\n    }\n\n    .dataframe thead th {\n        text-align: right;\n    }\n</style>\n<table border=\"1\" class=\"dataframe\">\n  <thead>\n    <tr style=\"text-align: right;\">\n      <th></th>\n      <th>quran</th>\n    </tr>\n  </thead>\n  <tbody>\n    <tr>\n      <th>en.sahih</th>\n      <td>{'1': {'surah': 1, 'ayah': 1, 'verse': 'In the...</td>\n    </tr>\n  </tbody>\n</table>\n</div>"
     },
     "metadata": {},
     "execution_count": 4
    }
   ],
   "source": [
    "url = 'http://destroyblackmagic.com/quran/data/en.sahih.json'\n",
    "df = pd.read_json(url)\n",
    "df.head()"
   ]
  },
  {
   "cell_type": "code",
   "execution_count": 5,
   "metadata": {},
   "outputs": [
    {
     "output_type": "execute_result",
     "data": {
      "text/plain": [
       "1"
      ]
     },
     "metadata": {},
     "execution_count": 5
    }
   ],
   "source": [
    "len(df)"
   ]
  },
  {
   "cell_type": "code",
   "execution_count": 7,
   "metadata": {},
   "outputs": [
    {
     "output_type": "execute_result",
     "data": {
      "text/plain": [
       "                                                      quran\n",
       "en.sahih  {'1': {'surah': 1, 'ayah': 1, 'verse': 'In the..."
      ],
      "text/html": "<div>\n<style scoped>\n    .dataframe tbody tr th:only-of-type {\n        vertical-align: middle;\n    }\n\n    .dataframe tbody tr th {\n        vertical-align: top;\n    }\n\n    .dataframe thead th {\n        text-align: right;\n    }\n</style>\n<table border=\"1\" class=\"dataframe\">\n  <thead>\n    <tr style=\"text-align: right;\">\n      <th></th>\n      <th>quran</th>\n    </tr>\n  </thead>\n  <tbody>\n    <tr>\n      <th>en.sahih</th>\n      <td>{'1': {'surah': 1, 'ayah': 1, 'verse': 'In the...</td>\n    </tr>\n  </tbody>\n</table>\n</div>"
     },
     "metadata": {},
     "execution_count": 7
    }
   ],
   "source": [
    "url = 'http://destroyblackmagic.com/quran/data/en.sahih.json'\n",
    "df = pd.read_json(url)\n",
    "df.head()"
   ]
  },
  {
   "cell_type": "code",
   "execution_count": 9,
   "metadata": {},
   "outputs": [
    {
     "output_type": "execute_result",
     "data": {
      "text/plain": [
       "                                                              quran\n",
       "quran-wordbyword  {'1': {'surah': 1, 'ayah': 1, 'verse': 'بِسْمِ..."
      ],
      "text/html": "<div>\n<style scoped>\n    .dataframe tbody tr th:only-of-type {\n        vertical-align: middle;\n    }\n\n    .dataframe tbody tr th {\n        vertical-align: top;\n    }\n\n    .dataframe thead th {\n        text-align: right;\n    }\n</style>\n<table border=\"1\" class=\"dataframe\">\n  <thead>\n    <tr style=\"text-align: right;\">\n      <th></th>\n      <th>quran</th>\n    </tr>\n  </thead>\n  <tbody>\n    <tr>\n      <th>quran-wordbyword</th>\n      <td>{'1': {'surah': 1, 'ayah': 1, 'verse': 'بِسْمِ...</td>\n    </tr>\n  </tbody>\n</table>\n</div>"
     },
     "metadata": {},
     "execution_count": 9
    }
   ],
   "source": [
    "url = 'http://destroyblackmagic.com/quran/data/quran-wordbyword.json'\n",
    "df = pd.read_json(url)\n",
    "df.head()"
   ]
  },
  {
   "cell_type": "code",
   "execution_count": 11,
   "metadata": {},
   "outputs": [
    {
     "output_type": "execute_result",
     "data": {
      "text/plain": [
       " from|78|104|1133$خَلْفِهِمْ|behind them|101|114|3500$وَعَنْ|and from|78|90|6284$أَيْمَـٰنِهِمْ|their right|85|110|5054$وَعَن|and from|78|103|6284$شَمَآئِلِهِمْ\\u200cۖ|their left,|96|121|6285$وَلَا تَجِدُ|and You will not find|155|180|6286$أَكْثَرَهُمْ|most of them|108|120|5560$شَـٰكِرِينَ|grateful.`|98|98|6287$'},\n",
       "   '972': {'surah': 7,\n",
       "    'ayah': 18,\n",
       "    'verse': 'قَالَ|(Allah) said,|99|114|309$ٱخْرُجْ|`Get out|78|108|6288$مِنْهَا|of it|58|88|246$مَذْءُومًا|disgraced|91|121|6289$مَّدْحُورًا\\u200cۖ|and expelled.|107|137|6290$لَّمَن|Certainly, whoever|144|159|3652$تَبِعَكَ|follows you|94|106|6291$مِنْهُمْ|among them,|106|129|730$لَأَمْلَأَنَّ|surely, I will fill|118|141|6292$جَهَنَّمَ|Hell|69|92|2655$مِنكُمْ|with you|77|100|643$أَجْمَعِينَ|all.|95|107|1408$'},\n",
       "   '973': {'surah': 7,\n",
       "    'ayah': 19,\n",
       "    'verse': 'وَيَـٰٓــَٔـادَمُ|And O Adam!|106|117|6293$ٱسْكُنْ|Dwell,|74|96|366$أَنتَ|you|58|80|341$وَزَوْجُكَ|and your wife,|115|137|367$ٱلْجَنَّةَ|(in) the Garden,|126|148|368$فَكُلَا|and you both eat|135|146|6294$مِنْ|from|50|66|53$حَيْثُ|wherever|81|112|371$شِئْتُمَا|you both wish,|118|149|372$وَلَا|but (do) not|102|133|25$تَقْرَبَا|approach [you both]|157|188|6295$هَـٰذِهِ|this|61|77|374$ٱلشَّجَرَةَ|[the] tree|93|135|375$فَتَكُونَا|lest you both be|129|214|376$مِنَ|among|63|148|156$ٱلظَّـٰلِمِينَ|the wrongdoers.`|136|178|377$'},\n",
       "   '974': {'surah': 7,\n",
       "    'ayah': 20,\n",
       "    'verse': 'فَوَسْوَسَ|Then whispered|124|138|6296$لَهُمَا|to both of them|125|152|6297$ٱلشَّيْطَـٰنُ|the Shaitaan|105|132|379$لِيُبْدِىَ|to make apparent|137|164|6298$لَهُمَا|to both of them|125|139|6297$مَا|what|53|68|262$وُۥرِىَ|was concealed|118|148|6299$عَنْهُمَا|from both of them|140|170|3812$مِن|of|50|80|53$سَوْءَٲتِهِمَا|their shame.|112|142|6300$وَقَالَ|And he said,|102|117|1089$مَا|`(Did) not|87|95|262$نَهَـٰكُمَا|forbid you both|121|137|6301$رَبُّكُمَا|your Lord|82|98|6302$عَنْ|from|54|70|1105$هَـٰذِهِ|this|61|77|374$ٱلشَّجَرَةِ|[the] tree|93|109|6303$إِلَّآ|except|65|81|86$أَن|that|48|56|655$تَكُونَا|you two become|130|142|6304$مَلَكَيْنِ|Angels|78|103|6305$أَوْ|or|41|66|154$تَكُونَا|you two become|130|155|6304$مِنَ|of|50|75|156$ٱلْخَـٰلِدِينَ|the immortals.`|122|134|6306$'},\n",
       "   '975': {'surah': 7,\n",
       "    'ayah': 21,\n",
       "    'verse': 'وَقَاسَمَهُمَآ|And he swore (to) both of them,|237|270|6307$إِنِّى|`Indeed, I am|112|178|312$لَكُمَا|to both of you|116|182|6308$لَمِنَ|among|63|96|1196$ٱلنَّـٰصِحِينَ|the sincere advisers.`|166|166|6309$'},\n",
       "   '976': {'surah': 7,\n",
       "    'ayah': 22,\n",
       "    'verse': 'فَدَلَّـٰهُمَا|So he made both of them fall|213|223|6310$بِغُرُورٍ\\u200cۚ|by deception.|111|132|6311$فَلَمَّا|Then when|93|114|141$ذَاقَا|they both tasted|133|154|6312$ٱلشَّجَرَةَ|the tree,|93|103|375$بَدَتْ|became apparent|135|151|6313$لَهُمَا|to both of them|125|157|6297$سَوْءَٲتُهُمَا|their shame,|109|141|6314$وَطَفِقَا|and they began|124|156|6315$يَخْصِفَانِ|(to) fasten|104|120|6316$عَلَيْهِمَا|over themselves|128|135|2015$مِن|from|50|64|53$وَرَقِ|(the) leaves|101|115|6317$ٱلْجَنَّةِ\\u200cۖ|(of) the Garden.|128|142|778$وَنَادَٮٰهُمَا|And called them both|161|175|6318$رَبُّهُمَآ|their Lord,|88|95|6319$أَلَمْ|`Did not|75|82|348$أَنْهَكُمَا|I forbid you both|131|146|6320$عَن|from|54|69|1105$تِلْكُمَا|this|68|83|6321$ٱلشَّجَرَةِ|[the] tree|93|108|6303$وَأَقُل|and [I] say|94|109|6322$لَّكُمَآ|to both of you,|121|128|6308$إِنَّ|that|48|91|58$ٱلشَّيْطَـٰنَ|[the] Shaitaan|117|203|4250$لَكُمَا|to both of you|116|202|6308$عَدُوٌّ مُّبِينٌ|an open enemy?`|136|179|6323$'},\n",
       "   '977': {'surah': 7,\n",
       "    'ayah': 23,\n",
       "    'verse': 'قَالَا|Both of them said,|142|149|6324$رَبَّنَا|`Our Lord|84|97|1167$ظَلَمْنَآ|we have wronged|137|150|6325$أَنفُسَنَا|ourselves,|87|100|6326$وَإِن|and if|58|71|213$لَّمْ|not|42|55|63$تَغْفِرْ|You forgive|95|102|5397$لَنَا|[for] us|70|84|338$وَتَرْحَمْنَا|and have mercy (on) us,|184|211|6327$لَنَكُونَنَّ|surely, we will be|134|161|5682$مِنَ|among|63|90|156$ٱلْخَـٰسِرِينَ|the losers.`|116|130|639$'},\n",
       "   '978': {'surah': 7,\n",
       "    'ayah': 24,\n",
       "    'verse': 'قَالَ|(Allah) said,|99|111|309$ٱهْبِطُواْ|`Get down|91|114|383$بَعْضُكُمْ|some of you|101|124|384$لِبَعْضٍ|to some others|120|143|385$عَدُوٌّ\\u200cۖ|(as) enemy.|100|123|386$وَلَكُمْ|And for you|97|109|387$فِى|in|48|63|89$ٱلْأَرْضِ|the earth|92|121|100$مُسْتَقَرٌّ|(is) a dwelling place|152|181|388$وَمَتَـٰعٌ|and livelihood|109|138|389$إِلَىٰ|for|53|82|118$حِينٍ|a time.`|74|89|390$'},\n",
       "   '979': {'surah': 7,\n",
       "    'ayah': 25,\n",
       "    'verse': 'قَالَ|He said,|73|97|309$فِيهَا|`In it|55|103|253$تَحْيَوْنَ|you will live|96|144|6328$وَفِيهَا|and in it|74|122|6329$تَمُوتُونَ|you will die|94|142|6330$وَمِنْهَا|and from it|92|116|6331$تُخْرَجُونَ|you will be brought forth.`|196|196|6332$'},\n",
       "   '980': {'surah': 7,\n",
       "    'ayah': 26,\n",
       "    'verse': 'يَـٰبَنِىٓ|O Children|87|95|411$ءَادَمَ|(of) Adam!|91|108|327$قَدْ|Verily|56|73|1097$أَنزَلْنَا|We have sent down|152|169|929$عَلَيْكُمْ|to you|76|93|416$لِبَاسًا|clothing,|77|94|6333$يُوَٲرِى|it covers|85|93|4915$سَوْءَٲتِكُمْ|your shame|103|111|6334$وَرِيشًا\\u200cۖ|and (as) an adornment.|177|193|6335$وَلِبَاسُ|But the clothing|126|142|6336$ٱلتَّقْوَىٰ|(of) [the] righteousness -|192|208|1759$ذَٲلِكَ|that|64|72|28$خَيْرٌ\\u200cۚ|(is) best.|81|88|520$ذَٲلِكَ|That|64|78|28$مِنْ|(is) from|76|90|53$ءَايَـٰتِ ٱللَّهِ|(the) Signs of Allah|148|162|3181$لَعَلَّهُمْ|so that they may|135|149|1621$يَذَّكَّرُونَ|remember.|99|106|6025$'},\n",
       "   '981': {'surah': 7,\n",
       "    'ayah': 27,\n",
       "    'verse': 'يَـٰبَنِىٓ|O Children|87|96|411$ءَادَمَ|(of) Adam!|91|108|327$لَا|(Let) not|80|97|30$يَفْتِنَنَّكُمُ|tempt you|88|105|6337$ٱلشَّيْطَـٰنُ|[the] Shaitaan|117|134|379$كَمَآ|as|53|70|110$أَخْرَجَ|he drove out|105|114|6338$أَبَوَيْكُم|your parents|104|121|6339$مِّنَ|from|50|84|156$ٱلْجَنَّةِ|Paradise,|80|114|778$يَنزِعُ|stripping|76|110|6340$عَنْهُمَا|from both of them|140|174|3812$لِبَاسَهُمَا|their clothing|107|124|6341$لِيُرِيَهُمَا|to show both of them|164|170|6342$سَوْءَٲتِهِمَآ\\u200cۗ|their shame.|109|121|6300$إِنَّهُۥ|Indeed, he|91|103|396$يَرَٮٰكُمْ|sees you -|91|103|6343$هُوَ|he|48|60|298$وَقَبِيلُهُۥ|and his tribe|102|114|6344$مِنْ|from|50|56|53$حَيْثُ|where|68|78|371$لَا|not|42|63|30$تَرَوْنَهُمْ\\u200cۗ|you see them.|115|136|6345$إِنَّا|Indeed,|70|91|120$جَعَلْنَا|We have made|118|139|1137$ٱلشَّيَـٰطِينَ|the devils|110|131|953$أَوْلِيَآءَ|friends|76|86|2754$لِلَّذِينَ|of those who|107|207|750$لَا|(do) not|75|274|30$يُؤْمِنُونَ|believe.|94|194|35$'},\n",
       "   '982': {'surah': 7,\n",
       "    'ayah': 28,\n",
       "    'verse': 'وَإِذَا|And when|85|95|96$فَعَلُواْ|they do|71|91|3283$فَـٰحِشَةً|immorality|86|106|3284$قَالُواْ|they say,|83|103|101$وَجَدْنَا|`We found|91|111|5291$عَلَيْهَآ|on it|69|89|1269$ءَابَآءَنَا|our forefathers|119|129|1474$وَٱللَّهُ|and Allah|80|89|167$أَمَرَنَا|(has) ordered us|130|147|6346$بِهَا\\u200cۗ|of it.`|60|77|1203$قُلْ|Say,|50|67|765$إِنَّ|`Indeed,|78|95|58$ٱللَّهَ|Allah|53|70|184$لَا|(does) not|90|107|30$يَأْمُرُ|order|64|73|6347$بِٱلْفَحْشَآءِ\\u200cۖ|immorality.|104|119|2426$أَتَقُولُونَ|Do you say|95|125|6348$عَلَى|about|63|93|52$ٱللَّهِ|Allah|53|83|606$مَا|what|53|83|262$لَا تَعْلَمُونَ|you (do) not know?`|158|173|325$'},\n",
       "   '983': {'surah': 7,\n",
       "    'ayah': 29,\n",
       "    'verse': 'قُلْ|Say,|50|60|765$أَمَرَ رَبِّى|`My Lord has ordered|163|183|6349$بِٱلْقِسْطِ\\u200cۖ|justice|86|106|2700$وَأَقِيمُواْ|and set|92|112|439$وُجُوهَكُمْ|your faces|103|123|1306$عِندَ|at|56|76|521$كُلِّ|every|57|67|185$مَسْجِدٍ|masjid|78|95|6350$وَٱدْعُوهُ|and invoke Him|119|153|6351$مُخْلِصِينَ|(being) sincere|119|153|6352$لَهُ|to Him|62|96|1807$ٱلدِّينَ\\u200cۚ|(in) the religion.|126|160|1208$كَمَا|As|53|70|110$بَدَأَكُمْ|He originated you|136|326|6353$تَعُودُونَ|(so) will you return.`|159|349|6354$'},\n",
       "   '984': {'surah': 7,\n",
       "    'ayah': 30,\n",
       "    'verse': 'فَرِيقًا|A group|71|77|799$هَدَىٰ|He guided|85|98|6355$وَفَرِيقًا|and a group|99|112|845$حَقَّ|deserved -|92|105|1122$عَلَيْهِمُ|[on] they|83|96|602$ٱلضَّلَـٰلَةُ\\u200cۗ|the astraying.|113|126|6356$إِنَّهُمُ|Indeed, they|105|111|6357$ٱتَّخَذُواْ|take|84|91|4600$ٱلشَّيَـٰطِينَ|the devils|110|124|953$أَوْلِيَآءَ|(as) allies|84|98|2754$مِن دُونِ|besides|101|115|224$ٱللَّهِ|Allah|53|67|2$وَيَحْسَبُونَ|while they think|125|139|6358$أَنَّهُم|that they|83|90|461$مُّهْتَدُونَ|(are the) guided-ones.|171|171|5781$'},\n",
       "   '985': {'surah': 7,\n",
       "    'ayah': 31,\n",
       "    'verse': '۞ يَـٰبَنِىٓ|O Children|114|125|411$ءَادَمَ|(of) Adam!|91|114|327$خُذُواْ|Take|69|92|630$زِينَتَكُمْ|your adornment|124|147|6359$عِندَ|at|56|79|521$كُلِّ|every|57|80|185$مَسْجِدٍ|masjid,|78|89|6350$وَكُلُواْ|and eat|75|89|1639$وَٱشْرَبُواْ|and drink|103|130|578$وَلَا|but (do) not|102|129|25$تُسْرِفُوٓاْ\\u200cۚ|be extravagant.|126|153|6110$إِنَّهُۥ|Indeed, He|92|119|396$لَا|(does) not|90|104|30$يُحِبُّ|love|68|288|1712$ٱلْمُسْرِفِينَ|the extravagant ones.|168|388|6111$'},\n",
       "   '986': {'surah': 7,\n",
       "    'ayah': 32,\n",
       "    'verse': 'قُلْ|Say,|50|72|765$مَنْ|`Who|57|101|76$حَرَّمَ|has forbidden|109|153|1487$زِينَةَ|(the) adornment|129|173|6360$ٱللَّهِ|(from) Allah|97|141|606$ٱلَّتِىٓ|which|61|83|232$أَخْرَجَ|He has brought forth|158|167|6338$لِعِبَادِهِۦ|for His slaves,|113|132|6361$وَٱلطَّيِّبَـٰتِ|and the pure things|150|169|6362$مِنَ|of|50|69|156$ٱلرِّزْقِ\\u200cۚ|sustenance?`|111|130|6363$قُلْ|Say,|50|59|765$هِىَ|`They|61|78|665$لِلَّذِينَ|(are) for those who|150|185|750$ءَامَنُواْ|believe|82|117|84$فِى|during|60|95|89$ٱلْحَيَوٲةِ|the life|82|117|817$ٱلدُّنْيَا|(of) the world,|117|134|818$خَالِصَةً|exclusively (for them)|164|171|892$يَوْمَ|(on the) Day|105|119|1057$ٱلْقِيَـٰمَةِ\\u200cۗ|(of) Resurrection.|137|151|820$كَذَٲلِكَ|Thus|77|91|702$نُفَصِّلُ|We explain|91|105|5638$ٱلْأَيَـٰتِ|the Signs|82|89|1099$لِقَوْمٍ|for (the) people|125|350|1100$يَعْلَمُونَ|who know.`|99|324|115$'},\n",
       "   '987': {'surah': 7,\n",
       "    'ayah': 33,\n",
       "    'verse': 'قُلْ|Say,|50|60|765$إِنَّمَا|`Only|57|76|102$حَرَّمَ|(had) forbidden|122|141|1487$رَبِّىَ|my Lord|72|91|2305$ٱلْفَوَٲحِشَ|the shameful deeds|149|168|6173$مَا|what|53|72|262$ظَهَرَ|(is) apparent|106|116|6174$مِنْهَا|of it|58|74|246$وَمَا|and what|82|115|46$بَطَنَ|is concealed,|107|140|6175$وَٱلْإِثْمَ|and the sin,|99|132|6364$وَٱلْبَغْىَ|and the oppression|146|179|6365$بِغَيْرِ|without|70|86|612$ٱلْحَقِّ|[the] right,|94|114|613$وَأَن|and that|77|118|1470$تُشْرِكُواْ|you associate (others)|171|212|3981$بِٱللَّهِ|with Allah|84|125|79$مَا|what|53|94|262$لَمْ|not|42|62|63$يُنَزِّلْ|He (has) sent down|151|157|3367$بِهِۦ|of it|52|64|204$سُلْطَـٰنًا|any authority,|114|126|3368$وَأَن|and that|77|89|1470$تَقُولُواْ|you say|78|90|986$عَلَى|about|63|75|52$ٱللَّهِ|Allah|53|65|606$مَا|what|53|59|262$لَا تَعْلَمُونَ|you (do) not know.|148|148|325$'},\n",
       "   '988': {'surah': 7,\n",
       "    'ayah': 34,\n",
       "    'verse': 'وَلِكُلِّ|And for every|110|116|6366$أُمَّةٍ|nation|61|74|3159$أَجَلٌ\\u200cۖ|(is a fixed) term.|131|144|5668$فَإِذَا|So when|77|90|1730$جَآءَ|comes|62|75|4023$أَجَلُهُمْ|their term,|90|103|6367$لَا|(they can) not|118|124|30$يَسْتَأْخِرُونَ|seek to delay|124|165|6368$سَاعَةً\\u200cۖ|an hour,|75|156|6369$وَلَا|and not|71|152|25$يَسْتَقْدِمُونَ|seek to advance (it).|161|202|6370$'},\n",
       "   '989': {'surah': 7,\n",
       "    'ayah': 35,\n",
       "    'verse': 'يَـٰبَنِىٓ|O Children|87|97|411$ءَادَمَ|(of) Adam!|91|111|327$إِمَّا|If|47|67|6371$يَأْتِيَنَّكُمْ|comes to you|110|130|400$رُسُلٌ|Messengers|97|117|3569$مِّنكُمْ|from you|78|98|643$يَقُصُّونَ|relating|94|104|6042$عَلَيْكُمْ|to you|76|84|416$ءَايَـٰتِى\\u200cۙ|My Verses,|93|110|6043$فَمَنِ|then whoever|111|128|1494$ٱتَّقَىٰ|fears Allah,|94|111|1674$وَأَصْلَحَ|and reforms,|103|120|4958$فَلَا|then no|71|88|208$خَوْفٌ|fear|76|84|405$عَلَيْهِمْ|on them|74|137|22$وَلَا|and not|71|198|25$هُمْ|they|50|177|49$يَحْزَنُونَ|will grieve.|100|163|406$'},\n",
       "   '990': {'surah': 7,\n",
       "    'ayah': 36,\n",
       "    'verse': 'وَٱلَّذِينَ|But those who|116|127|42$كَذَّبُواْ|deny|73|95|2650$بِـَٔـايَـٰتِنَا|Our Verses|92|114|408$وَٱسْتَكْبَرُواْ|and (are) arrogant|143|165|4685$عَنْهَآ|towards them|111|133|380$أُوْلَـٰٓئِكَ|those|82|93|51$أَصْحَـٰبُ|(are the) companions|162|183|409$ٱلنَّارِ\\u200cۖ|(of) the Fire,|106|148|410$هُمْ|they|50|92|49$فِيهَا|in it|54|96|253$خَـٰلِدُونَ|will abide forever.|137|158|257$'},\n",
       "   '991': {'surah': 7,\n",
       "    'ayah': 37,\n",
       "    'verse': 'فَمَنْ|Then who|85|92|402$أَظْلَمُ|(is) more unjust|125|138|1060$مِمَّنِ|than (one) who|123|136|5485$ٱفْتَرَىٰ|invented|80|93|3099$عَلَى|against|68|81|52$ٱللَّهِ|Allah|53|66|606$كَذِبًا|a lie|59|72|5486$أَوْ|or|41|48|154$كَذَّبَ|denies|67|77|5487$بِـَٔـايَـٰتِهِۦٓ\\u200cۚ|His Verses?|95|116|5488$أُوْلَـٰٓئِكَ|Those -|82|103|51$يَنَالُهُمْ|will reach them|120|141|6372$نَصِيبُهُم|their portion|101|122|6373$مِّنَ|from|50|71|156$ٱلْكِتَـٰبِ\\u200cۖ|the Book,|85|95|811$حَتَّىٰٓ|until|64|80|526$إِذَا|when|55|86|1370$جَآءَتْهُمْ|comes to them|119|150|4930$رُسُلُنَا|Our messengers (Angels)|185|216|4931$يَتَوَفَّوْنَهُمْ|(to) take them in death|177|193|6374$قَالُوٓاْ|they say,|83|90|101$أَيْنَ|`Where are|96|110|5492$مَا|those (whom)|112|126|262$كُنتُمْ|you used to|99|112|214$تَدْعُونَ|invoke|87|100|5577$مِن دُونِ|besides|101|114|224$ٱللَّهِ\\u200cۖ|Allah?`|66|73|2$قَالُواْ|They say,|86|98|101$ضَلُّواْ|`They strayed|116|139|4661$عَنَّا|from us,`|82|105|2603$وَشَهِدُواْ|and they (will) testify|164|187|3075$عَلَىٰٓ|against|68|91|52$أَنفُسِهِمْ|themselves|94|106|1025$أَنَّهُمْ|that they|83|188|461$كَانُواْ|were|69|280|94$كَـٰفِرِينَ|disbelievers.|101|206|3121$'},\n",
       "   '992': {'surah': 7,\n",
       "    'ayah': 38,\n",
       "    'verse': 'قَالَ|He (will) say,|107|118|309$ٱدْخُلُواْ|`Enter|83|104|544$فِىٓ|among|63|84|89$أُمَمٍ|(the) nations|107|128|5580$قَدْ خَلَتْ|(who) passed away|150|171|1225$مِن قَبْلِكُم|before you|110|120|192$مِّنَ|of|50|59|156$ٱلْجِنِّ|the jinn|70|88|6030$وَٱلْإِنسِ|and the men|103|121|6041$فِى|in|48|66|89$ٱلنَّارِ\\u200cۖ|the Fire.`|84|102|410$كُلَّمَا|Every time|90|108|174$دَخَلَتْ|entered|78|96|6375$أُمَّةٌ|a nation|74|83|1224$لَّعَنَتْ|it cursed|78|88|6376$أُخْتَهَا\\u200cۖ|its sister (nation)|135|156|6377$حَتَّىٰٓ|until|64|85|526$إِذَا|when|55|76|1370$ٱدَّارَكُواْ|they had overtaken one another|235|256|6378$فِيهَا|in it|54|64|253$جَمِيعًا|all,|78|86|300$قَالَتْ|(will) say|80|96|2789$أُخْرَٮٰهُمْ|(the) last of them|139|155|6379$لِأُولَـٰهُمْ|about the first of them,|177|193|6380$رَبَّنَا|`Our Lord,|89|105|1167$هَـٰٓؤُلَآءِ|these|82|90|335$أَضَلُّونَا|misled us|90|105|6381$فَـَٔـاتِهِمْ|so give them|105|134|6382$عَذَابًا ضِعْفًا|double punishment|143|172|6383$مِّنَ|of|50|79|156$ٱلنَّارِ\\u200cۖ|the Fire.`|84|113|410$قَالَ|He (will) say,|107|122|309$لِكُلٍّ|`For each|86|119|5016$ضِعْفٌ|(is) a double|103|169|6384$وَلَـٰكِن|[and] but|83|149|108$لَّا|not|42|108|30$تَعْلَمُونَ|you know.`|96|129|212$'},\n",
       "   '993': {'surah': 7,\n",
       "    'ayah': 39,\n",
       "    'verse': 'وَقَالَتْ|And (will) say|110|120|2998$أُولَـٰهُمْ|(the) first of them|141|161|6385$لِأُخْرَٮٰهُمْ|to (the) last of them,|163|183|6386$فَمَا|`Then not|88|108|132$كَانَ|is|57|77|913$لَكُمْ|for you|67|77|207$عَلَيْنَا|upon us|72|83|681$مِن|any|50|71|53$فَضْلٍ|superiority,|94|115|3384$فَذُوقُواْ|so taste|84|105|3154$ٱلْعَذَابَ|the punishment|122|143|1442$بِمَا|for what|76|97|43$كُنتُمْ|you used to|99|110|214$تَكْسِبُونَ|earn.`|97|97|5415$'},\n",
       "   '994': {'surah': 7,\n",
       "    'ayah': 40,\n",
       "    'verse': 'إِنَّ|Indeed,|70|83|58$ٱلَّذِينَ|those who|89|115|20$كَذَّبُواْ|denied|73|99|2650$بِـَٔـايَـٰتِنَا|Our Verses|92|118|408$وَٱسْتَكْبَرُواْ|and (were) arrogant|154|180|4685$عَنْهَا|towards them,|116|129|380$لَا|(will) not|79|85|30$تُفَتَّحُ|be opened|89|101|6387$لَهُمْ|for them|76|88|98$أَبْوَٲبُ|(the) doors|95|107|6388$ٱلسَّمَآءِ|(of) the heaven,|130|142|157$وَلَا|and not|71|83|25$يَدْخُلُونَ|they will enter|115|121|4491$ٱلْجَنَّةَ|Paradise|75|88|368$حَتَّىٰ|until|64|90|526$يَلِجَ|passes|65|91|6389$ٱلْجَمَلُ|the camel|85|111|6390$فِى|through|71|97|89$سَمِّ|(the) eye|83|109|6391$ٱلْخِيَاطِ\\u200cۚ|(of) the needle.|125|138|6392$وَكَذَٲلِكَ|And thus|91|176|1273$نَجْزِى|We recompense|125|296|5793$ٱلْمُجْرِمِينَ|the criminals.|118|203|5641$'},\n",
       "   '995': {'surah': 7,\n",
       "    'ayah': 41,\n",
       "    'verse': 'لَهُم|For them|79|89|98$مِّن|of|50|70|53$جَهَنَّمَ|(the) Hell|82|102|2655$مِهَادٌ|(is) a bed|84|104|6393$وَمِن فَوْقِهِمْ|and over them|129|149|6394$غَوَاشٍ\\u200cۚ|coverings.|88|108|6395$وَكَذَٲلِكَ|And thus|91|101|1273$نَجْزِى|We recompense|125|336|5793$ٱلظَّـٰلِمِينَ|the wrongdoers.|128|339|377$'},\n",
       "   '996': {'surah': 7,\n",
       "    'ayah': 42,\n",
       "    'verse': 'وَٱلَّذِينَ|But those who|116|130|42$ءَامَنُواْ|believe|82|110|84$وَعَمِلُواْ|and do|92|120|238$ٱلصَّـٰلِحَـٰتِ|[the] righteous deeds|164|192|239$لَا|not|42|70|30$نُكَلِّفُ|We burden|91|105|6183$نَفْسًا|any soul|75|85|697$إِلَّا|except|65|84|86$وُسْعَهَآ|(to) its capacity.|134|153|2066$أُوْلَـٰٓئِكَ|Those|82|101|51$أَصْحَـٰبُ|(are the) companions|162|181|409$ٱلْجَنَّةِ\\u200cۖ|(of) Paradise,|110|120|778$هُمْ|they|50|156|49$فِيهَا|in it|54|265|253$خَـٰلِدُونَ|(will) abide forever.|149|254|257$'},\n",
       "   '997': {'surah': 7,\n",
       "    'ayah': 43,\n",
       "    'verse': 'وَنَزَعْنَا|And We will remove|149|160|6396$مَا|whatever|82|103|262$فِى|(is) in|58|79|89$صُدُورِهِم|their breasts|113|134|6397$مِّنْ|of|50|71|53$غِلٍّ|malice.|66|87|6398$تَجْرِى|Flows|81|92|242$مِن|from|50|60|53$تَحْتِهِمُ|underneath them|133|152|6399$ٱلْأَنْهَـٰرُ\\u200cۖ|the rivers.|88|107|244$وَقَالُواْ|And they will say,|138|157|760$ٱلْحَمْدُ|`All the praise|114|133|5$لِلَّهِ|(is) for Allah,|106|116|6$ٱلَّذِى|the One Who|107|116|138$هَدَٮٰنَا|guided us|83|102|6400$لِهَـٰذَا|to this,|68|87|6401$وَمَا|and not|71|90|46$كُنَّا|we were|76|95|4361$لِنَهْتَدِىَ|to receive guidance|151|170|6402$لَوْلَآ|if not|55|64|1090$أَنْ|[that]|60|74|655$هَدَٮٰنَا ٱللَّهُ\\u200cۖ|Allah (had) guided us.|165|192|5720$لَقَدْ|Certainly,|83|110|3466$جَآءَتْ|came|80|107|5938$رُسُلُ|Messengers|97|124|6007$رَبِّنَا|(of) our Lord|104|118|2630$بِٱلْحَقِّ\\u200cۖ|with the truth.`|126|147|692$وَنُودُوٓاْ|And they will be addressed,|203|246|6403$أَن|[that]|60|102|655$تِلْكُمُ|`This|59|102|6404$ٱلْجَنَّةُ|(is) Paradise,|107|128|6405$أُورِثْتُمُوهَا|you have been made to inherit it|237|266|6406$بِمَا|for what|76|133|43$كُنتُمْ|you used to|99|156|214$تَعْمَلُونَ|do.`|92|120|725$'},\n",
       "   '998': {'surah': 7,\n",
       "    'ayah': 44,\n",
       "    'verse': 'وَنَادَىٰٓ|And will call out|124|137|6407$أَصْحَـٰبُ|(the) companions|136|162|409$ٱلْجَنَّةِ|(of) Paradise|105|131|778$أَصْحَـٰبَ|(to the) companions|155|181|4057$ٱلنَّارِ|(of) the Fire|101|114|410$أَن|that,|53|65|655$قَدْ|`Indeed,|78|103|1097$وَجَدْنَا|we found|81|106|5291$مَا|what|53|78|262$وَعَدَنَا رَبُّنَا|our Lord had promised us|186|211|6408$حَقًّا|true.|52|77|1566$فَهَلْ|So have|74|86|6409$وَجَدتُّم|you found|86|101|6410$مَّا|what|53|83|262$وَعَدَ رَبُّكُمْ|your Lord promised|145|175|6411$حَقًّا\\u200cۖ|(to be) true?`|114|144|1566$قَالُواْ|They will say,|111|141|101$نَعَمْ\\u200cۚ|`Yes.`|65|80|6412$فَأَذَّنَ|Then will announce|147|158|6413$مُؤَذِّنُۢ|an announcer|110|133|6414$بَيْنَهُمْ|among them,|106|129|1056$أَن|[that]|60|83|655$لَّعْنَةُ|`(The) curse|106|129|1405$ٱللَّهِ|(of) Allah|81|92|606$عَلَى|(is) on|63|305|52$ٱلظَّـٰلِمِينَ|the wrongdoers,|128|370|377$'},\n",
       "   '999': {'surah': 7,\n",
       "    'ayah': 45,\n",
       "    'verse': 'ٱلَّذِينَ|Those who|92|101|20$يَصُدُّونَ|hinder|97|114|4123$عَن|from|54|71|1105$سَبِيلِ|(the) way|86|103|1358$ٱللَّهِ|(of) Allah|81|98|2$وَيَبْغُونَهَا|and seek in it|109|126|6415$عِوَجًا|crookedness|102|111|3118$وَهُم|while they (are)|126|188|256$بِٱلْأَخِرَةِ|concerning the Hereafter,|191|316|824$كَـٰفِرُونَ|disbelievers.`|109|171|6416$'},\n",
       "   '1000': {'surah': 7,\n",
       "    'ayah': 46,\n",
       "    'verse': 'وَبَيْنَهُمَا|And between them|145|163|6417$حِجَابٌ\\u200cۚ|(will be) a partition,|151|186|6418$وَعَلَى|and on|77|112|67$ٱلْأَعْرَافِ|the heights|106|141|6419$رِجَالٌ|(will be) men|105|123|6420$يَعْرِفُونَ|recognizing|97|115|1319$كُلاَّۢ|all|52|88|4525$بِسِيمَـٰهُمْ\\u200cۚ|by their marks.|119|155|2464$وَنَادَوْاْ|And they will call out|159|195|6421$أَصْحَـٰبَ|(to the) companions|155|173|4057$ٱلْجَنَّةِ|(of) Paradise|105|113|778$أَن|that|48|65|655$سَلَـٰمٌ|`Peace|68|85|5633$عَلَيْكُمْ\\u200cۚ|(be) upon you.`|127|144|416$لَمْ|Not|43|60|63$يَدْخُلُوهَا|they have entered it|157|174|1068$وَهُمْ|but they|77|85|256$يَطْمَعُونَ|hope.|104|104|6422$'},\n",
       "   ...}}}"
      ]
     },
     "metadata": {},
     "execution_count": 11
    }
   ],
   "source": [
    "url = 'http://destroyblackmagic.com/quran/data/quran-wordbyword.json'\n",
    "r=requests.get(url)\n",
    "j=r.json()\n",
    "j"
   ]
  },
  {
   "cell_type": "code",
   "execution_count": 14,
   "metadata": {},
   "outputs": [
    {
     "output_type": "execute_result",
     "data": {
      "text/plain": [
       "dict"
      ]
     },
     "metadata": {},
     "execution_count": 14
    }
   ],
   "source": [
    "type(j)"
   ]
  }
 ]
}