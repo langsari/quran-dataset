{
 "cells": [
  {
   "cell_type": "code",
   "execution_count": null,
   "metadata": {},
   "outputs": [],
   "source": [
    "import pandas as pd\n",
    "import numpy as np\n",
    "import seaborn as sns\n",
    "import matplotlib.pyplot as plt\n",
    "import nltk"
   ]
  },
  {
   "cell_type": "code",
   "execution_count": null,
   "metadata": {},
   "outputs": [],
   "source": [
    "data = pd.read_json('https://raw.githubusercontent.com/risan/quran-json/master/json/translations/id.pretty.json')"
   ]
  },
  {
   "cell_type": "code",
   "execution_count": null,
   "metadata": {},
   "outputs": [],
   "source": [
    "data"
   ]
  },
  {
   "cell_type": "code",
   "execution_count": 5,
   "metadata": {},
   "outputs": [],
   "source": [
    "data.drop(['surah_number'],axis=1,inplace=True)"
   ]
  },
  {
   "cell_type": "code",
   "execution_count": 6,
   "metadata": {},
   "outputs": [
    {
     "data": {
      "text/html": [
       "<div>\n",
       "<style scoped>\n",
       "    .dataframe tbody tr th:only-of-type {\n",
       "        vertical-align: middle;\n",
       "    }\n",
       "\n",
       "    .dataframe tbody tr th {\n",
       "        vertical-align: top;\n",
       "    }\n",
       "\n",
       "    .dataframe thead th {\n",
       "        text-align: right;\n",
       "    }\n",
       "</style>\n",
       "<table border=\"1\" class=\"dataframe\">\n",
       "  <thead>\n",
       "    <tr style=\"text-align: right;\">\n",
       "      <th></th>\n",
       "      <th>verse_number</th>\n",
       "      <th>content</th>\n",
       "    </tr>\n",
       "  </thead>\n",
       "  <tbody>\n",
       "    <tr>\n",
       "      <td>0</td>\n",
       "      <td>1</td>\n",
       "      <td>Dengan menyebut nama Allah Yang Maha Pemurah l...</td>\n",
       "    </tr>\n",
       "    <tr>\n",
       "      <td>1</td>\n",
       "      <td>2</td>\n",
       "      <td>Segala puji bagi Allah, Tuhan semesta alam.</td>\n",
       "    </tr>\n",
       "    <tr>\n",
       "      <td>2</td>\n",
       "      <td>3</td>\n",
       "      <td>Maha Pemurah lagi Maha Penyayang.</td>\n",
       "    </tr>\n",
       "    <tr>\n",
       "      <td>3</td>\n",
       "      <td>4</td>\n",
       "      <td>Yang menguasai di Hari Pembalasan.</td>\n",
       "    </tr>\n",
       "    <tr>\n",
       "      <td>4</td>\n",
       "      <td>5</td>\n",
       "      <td>Hanya Engkaulah yang kami sembah, dan hanya ke...</td>\n",
       "    </tr>\n",
       "    <tr>\n",
       "      <td>...</td>\n",
       "      <td>...</td>\n",
       "      <td>...</td>\n",
       "    </tr>\n",
       "    <tr>\n",
       "      <td>6231</td>\n",
       "      <td>2</td>\n",
       "      <td>Raja manusia.</td>\n",
       "    </tr>\n",
       "    <tr>\n",
       "      <td>6232</td>\n",
       "      <td>3</td>\n",
       "      <td>Sembahan manusia.</td>\n",
       "    </tr>\n",
       "    <tr>\n",
       "      <td>6233</td>\n",
       "      <td>4</td>\n",
       "      <td>Dari kejahatan (bisikan) syaitan yang biasa be...</td>\n",
       "    </tr>\n",
       "    <tr>\n",
       "      <td>6234</td>\n",
       "      <td>5</td>\n",
       "      <td>yang membisikkan (kejahatan) ke dalam dada man...</td>\n",
       "    </tr>\n",
       "    <tr>\n",
       "      <td>6235</td>\n",
       "      <td>6</td>\n",
       "      <td>dari (golongan) jin dan manusia.</td>\n",
       "    </tr>\n",
       "  </tbody>\n",
       "</table>\n",
       "<p>6236 rows × 2 columns</p>\n",
       "</div>"
      ],
      "text/plain": [
       "      verse_number                                            content\n",
       "0                1  Dengan menyebut nama Allah Yang Maha Pemurah l...\n",
       "1                2        Segala puji bagi Allah, Tuhan semesta alam.\n",
       "2                3                  Maha Pemurah lagi Maha Penyayang.\n",
       "3                4                 Yang menguasai di Hari Pembalasan.\n",
       "4                5  Hanya Engkaulah yang kami sembah, dan hanya ke...\n",
       "...            ...                                                ...\n",
       "6231             2                                      Raja manusia.\n",
       "6232             3                                  Sembahan manusia.\n",
       "6233             4  Dari kejahatan (bisikan) syaitan yang biasa be...\n",
       "6234             5  yang membisikkan (kejahatan) ke dalam dada man...\n",
       "6235             6                   dari (golongan) jin dan manusia.\n",
       "\n",
       "[6236 rows x 2 columns]"
      ]
     },
     "execution_count": 6,
     "metadata": {},
     "output_type": "execute_result"
    }
   ],
   "source": [
    "data"
   ]
  },
  {
   "cell_type": "code",
   "execution_count": 7,
   "metadata": {},
   "outputs": [],
   "source": [
    "data.rename(columns={'content':'translation'},inplace=True)"
   ]
  },
  {
   "cell_type": "code",
   "execution_count": 8,
   "metadata": {},
   "outputs": [
    {
     "data": {
      "text/html": [
       "<div>\n",
       "<style scoped>\n",
       "    .dataframe tbody tr th:only-of-type {\n",
       "        vertical-align: middle;\n",
       "    }\n",
       "\n",
       "    .dataframe tbody tr th {\n",
       "        vertical-align: top;\n",
       "    }\n",
       "\n",
       "    .dataframe thead th {\n",
       "        text-align: right;\n",
       "    }\n",
       "</style>\n",
       "<table border=\"1\" class=\"dataframe\">\n",
       "  <thead>\n",
       "    <tr style=\"text-align: right;\">\n",
       "      <th></th>\n",
       "      <th>verse_number</th>\n",
       "      <th>translation</th>\n",
       "    </tr>\n",
       "  </thead>\n",
       "  <tbody>\n",
       "    <tr>\n",
       "      <td>0</td>\n",
       "      <td>1</td>\n",
       "      <td>Dengan menyebut nama Allah Yang Maha Pemurah l...</td>\n",
       "    </tr>\n",
       "    <tr>\n",
       "      <td>1</td>\n",
       "      <td>2</td>\n",
       "      <td>Segala puji bagi Allah, Tuhan semesta alam.</td>\n",
       "    </tr>\n",
       "    <tr>\n",
       "      <td>2</td>\n",
       "      <td>3</td>\n",
       "      <td>Maha Pemurah lagi Maha Penyayang.</td>\n",
       "    </tr>\n",
       "    <tr>\n",
       "      <td>3</td>\n",
       "      <td>4</td>\n",
       "      <td>Yang menguasai di Hari Pembalasan.</td>\n",
       "    </tr>\n",
       "    <tr>\n",
       "      <td>4</td>\n",
       "      <td>5</td>\n",
       "      <td>Hanya Engkaulah yang kami sembah, dan hanya ke...</td>\n",
       "    </tr>\n",
       "    <tr>\n",
       "      <td>...</td>\n",
       "      <td>...</td>\n",
       "      <td>...</td>\n",
       "    </tr>\n",
       "    <tr>\n",
       "      <td>6231</td>\n",
       "      <td>2</td>\n",
       "      <td>Raja manusia.</td>\n",
       "    </tr>\n",
       "    <tr>\n",
       "      <td>6232</td>\n",
       "      <td>3</td>\n",
       "      <td>Sembahan manusia.</td>\n",
       "    </tr>\n",
       "    <tr>\n",
       "      <td>6233</td>\n",
       "      <td>4</td>\n",
       "      <td>Dari kejahatan (bisikan) syaitan yang biasa be...</td>\n",
       "    </tr>\n",
       "    <tr>\n",
       "      <td>6234</td>\n",
       "      <td>5</td>\n",
       "      <td>yang membisikkan (kejahatan) ke dalam dada man...</td>\n",
       "    </tr>\n",
       "    <tr>\n",
       "      <td>6235</td>\n",
       "      <td>6</td>\n",
       "      <td>dari (golongan) jin dan manusia.</td>\n",
       "    </tr>\n",
       "  </tbody>\n",
       "</table>\n",
       "<p>6236 rows × 2 columns</p>\n",
       "</div>"
      ],
      "text/plain": [
       "      verse_number                                        translation\n",
       "0                1  Dengan menyebut nama Allah Yang Maha Pemurah l...\n",
       "1                2        Segala puji bagi Allah, Tuhan semesta alam.\n",
       "2                3                  Maha Pemurah lagi Maha Penyayang.\n",
       "3                4                 Yang menguasai di Hari Pembalasan.\n",
       "4                5  Hanya Engkaulah yang kami sembah, dan hanya ke...\n",
       "...            ...                                                ...\n",
       "6231             2                                      Raja manusia.\n",
       "6232             3                                  Sembahan manusia.\n",
       "6233             4  Dari kejahatan (bisikan) syaitan yang biasa be...\n",
       "6234             5  yang membisikkan (kejahatan) ke dalam dada man...\n",
       "6235             6                   dari (golongan) jin dan manusia.\n",
       "\n",
       "[6236 rows x 2 columns]"
      ]
     },
     "execution_count": 8,
     "metadata": {},
     "output_type": "execute_result"
    }
   ],
   "source": [
    "data"
   ]
  },
  {
   "cell_type": "code",
   "execution_count": 9,
   "metadata": {},
   "outputs": [
    {
     "name": "stdout",
     "output_type": "stream",
     "text": [
      "<class 'pandas.core.frame.DataFrame'>\n",
      "RangeIndex: 6236 entries, 0 to 6235\n",
      "Data columns (total 2 columns):\n",
      "verse_number    6236 non-null int64\n",
      "translation     6236 non-null object\n",
      "dtypes: int64(1), object(1)\n",
      "memory usage: 97.6+ KB\n"
     ]
    }
   ],
   "source": [
    "data.info()"
   ]
  },
  {
   "cell_type": "code",
   "execution_count": 12,
   "metadata": {},
   "outputs": [],
   "source": [
    "data.to_json('DATAMAINING2020/Indonesia.json')"
   ]
  },
  {
   "cell_type": "code",
   "execution_count": 14,
   "metadata": {},
   "outputs": [],
   "source": [
    "data.to_csv('DATAMAINING2020/Indonesia.csv',index=False)"
   ]
  },
  {
   "cell_type": "code",
   "execution_count": null,
   "metadata": {},
   "outputs": [],
   "source": []
  }
 ],
 "metadata": {
  "kernelspec": {
   "display_name": "Python 3",
   "language": "python",
   "name": "python3"
  },
  "language_info": {
   "codemirror_mode": {
    "name": "ipython",
    "version": 3
   },
   "file_extension": ".py",
   "mimetype": "text/x-python",
   "name": "python",
   "nbconvert_exporter": "python",
   "pygments_lexer": "ipython3",
   "version": "3.7.4"
  }
 },
 "nbformat": 4,
 "nbformat_minor": 2
}
