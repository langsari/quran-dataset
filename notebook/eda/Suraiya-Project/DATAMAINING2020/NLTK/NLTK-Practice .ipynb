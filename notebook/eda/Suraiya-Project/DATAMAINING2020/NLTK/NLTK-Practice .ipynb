{
 "cells": [
  {
   "cell_type": "code",
   "execution_count": 1,
   "metadata": {},
   "outputs": [],
   "source": [
    "import nltk "
   ]
  },
  {
   "cell_type": "code",
   "execution_count": 2,
   "metadata": {},
   "outputs": [
    {
     "name": "stdout",
     "output_type": "stream",
     "text": [
      "*** Introductory Examples for the NLTK Book ***\n",
      "Loading text1, ..., text9 and sent1, ..., sent9\n",
      "Type the name of the text or sentence to view it.\n",
      "Type: 'texts()' or 'sents()' to list the materials.\n",
      "text1: Moby Dick by Herman Melville 1851\n",
      "text2: Sense and Sensibility by Jane Austen 1811\n",
      "text3: The Book of Genesis\n",
      "text4: Inaugural Address Corpus\n",
      "text5: Chat Corpus\n",
      "text6: Monty Python and the Holy Grail\n",
      "text7: Wall Street Journal\n",
      "text8: Personals Corpus\n",
      "text9: The Man Who Was Thursday by G . K . Chesterton 1908\n",
      "<class 'nltk.text.Text'>\n",
      "260819\n",
      "19317\n",
      "['[', 'Moby', 'Dick', 'by', 'Herman', 'Melville', '1851', ']', 'ETYMOLOGY', '.']\n",
      "['[', 'Sense', 'and', 'Sensibility', 'by', 'Jane', 'Austen', '1811', ']', 'CHAPTER']\n"
     ]
    }
   ],
   "source": [
    "import nltk\n",
    "from nltk.book import *\n",
    "\n",
    "print(type(text1))\n",
    "print(len(text1))\n",
    "print(len(set(text1)))\n",
    "print(text1[:10])\n",
    "print(text2[:10])"
   ]
  },
  {
   "cell_type": "code",
   "execution_count": 3,
   "metadata": {},
   "outputs": [
    {
     "name": "stdout",
     "output_type": "stream",
     "text": [
      "['austen-emma.txt', 'austen-persuasion.txt', 'austen-sense.txt', 'bible-kjv.txt', 'blake-poems.txt', 'bryant-stories.txt', 'burgess-busterbrown.txt', 'carroll-alice.txt', 'chesterton-ball.txt', 'chesterton-brown.txt', 'chesterton-thursday.txt', 'edgeworth-parents.txt', 'en.shakir.txt', 'melville-moby_dick.txt', 'milton-paradise.txt', 'shakespeare-caesar.txt', 'shakespeare-hamlet.txt', 'shakespeare-macbeth.txt', 'whitman-leaves.txt']\n",
      "37360\n",
      "3106\n",
      "['What', 'say', 'you', '?']\n",
      "950\n"
     ]
    }
   ],
   "source": [
    "from nltk.corpus import gutenberg\n",
    "print(gutenberg.fileids())\n",
    "hamlet = gutenberg.words('shakespeare-hamlet.txt')\n",
    "print(len(hamlet))\n",
    "hamlet_sentences = gutenberg.sents('shakespeare-hamlet.txt')\n",
    "print(len(hamlet_sentences))\n",
    "print(hamlet_sentences[1024])\n",
    "print(len(gutenberg.paras('shakespeare-hamlet.txt')))"
   ]
  },
  {
   "cell_type": "code",
   "execution_count": 42,
   "metadata": {},
   "outputs": [
    {
     "name": "stdout",
     "output_type": "stream",
     "text": [
      "['austen-emma.txt', 'austen-persuasion.txt', 'austen-sense.txt', 'bible-kjv.txt', 'blake-poems.txt', 'bryant-stories.txt', 'burgess-busterbrown.txt', 'carroll-alice.txt', 'chesterton-ball.txt', 'chesterton-brown.txt', 'chesterton-thursday.txt', 'edgeworth-parents.txt', 'en.shakir.txt', 'melville-moby_dick.txt', 'milton-paradise.txt', 'shakespeare-caesar.txt', 'shakespeare-hamlet.txt', 'shakespeare-macbeth.txt', 'whitman-leaves.txt']\n",
      "184978\n",
      "6614\n",
      "['Certainly', 'they', 'disbelieve', 'who', 'say', ':', 'Surely', 'Allah', 'is', 'the', 'third', '(', 'person', ')', 'of', 'the', 'three', ';', 'and', 'there', 'is', 'no', 'god', 'but', 'the', 'one', 'Allah', ',', 'and', 'if', 'they', 'desist', 'not', 'from', 'what', 'they', 'say', ',', 'a', 'painful', 'chastisement', 'shall', 'befall', 'those', 'among', 'them', 'who', 'disbelieve', '.']\n",
      "2\n"
     ]
    }
   ],
   "source": [
    "from nltk.corpus import gutenberg\n",
    "print(gutenberg.fileids())\n",
    "hamlet = gutenberg.words('en.shakir.txt')\n",
    "print(len(hamlet))\n",
    "hamlet_sentences = gutenberg.sents('en.shakir.txt')\n",
    "print(len(hamlet_sentences))\n",
    "print(hamlet_sentences[1024])\n",
    "print(len(gutenberg.paras('en.shakir.txt')))"
   ]
  },
  {
   "cell_type": "code",
   "execution_count": 6,
   "metadata": {},
   "outputs": [
    {
     "name": "stdout",
     "output_type": "stream",
     "text": [
      "26\n",
      "Displaying 7 of 7 matches:\n",
      "r him ,\" said I , now flying into a passion again at this unaccountable farrago\n",
      " employed in the celebration of the Passion of our Lord ; though in the Vision \n",
      "ce all mortal interests to that one passion ; nevertheless it may have been tha\n",
      "ing with the wildness of his ruling passion , yet were by no means incapable of\n",
      "it , however promissory of life and passion in the end , it is above all things\n",
      "o ' s lordly chest . So have I seen Passion and Vanity stamping the living magn\n",
      " Guernseyman , flying into a sudden passion . \" Oh ! keep cool -- cool ? yes , \n",
      "None\n",
      "Displaying 5 of 5 matches:\n",
      "one ,\" said Elinor , \" who has your passion for dead leaves .\" \" No ; my feelin\n",
      "r daughters , without extending the passion to her ; and Elinor had the satisfa\n",
      "r , if he was to be in the greatest passion !-- and Mr . Donavan thinks just th\n",
      "edness I could have borne , but her passion -- her malice -- At all events it m\n",
      "ling a sacrifice to an irresistible passion , as once she had fondly flattered \n",
      "None\n"
     ]
    }
   ],
   "source": [
    "print(text1.count('horse'))\n",
    "print(text1.concordance('passion'))\n",
    "print(text2.concordance('passion'))"
   ]
  },
  {
   "cell_type": "code",
   "execution_count": 7,
   "metadata": {},
   "outputs": [
    {
     "name": "stdout",
     "output_type": "stream",
     "text": [
      "19317\n",
      "[(',', 18713), ('the', 13721), ('.', 6862), ('of', 6536), ('and', 6024), ('a', 4569), ('to', 4542), (';', 4072), ('in', 3916), ('that', 2982), (\"'\", 2684), ('-', 2552), ('his', 2459), ('it', 2209), ('I', 2124), ('s', 1739), ('is', 1695), ('he', 1661), ('with', 1659), ('was', 1632)]\n"
     ]
    }
   ],
   "source": [
    "\n",
    "vocab = nltk.FreqDist(text1)\n",
    "print(len(vocab))\n",
    "print(vocab.most_common(20))"
   ]
  },
  {
   "cell_type": "code",
   "execution_count": 8,
   "metadata": {},
   "outputs": [
    {
     "name": "stdout",
     "output_type": "stream",
     "text": [
      "[('that', 2982), ('with', 1659), ('this', 1280), ('from', 1052), ('whale', 906), ('have', 760), ('there', 715), ('were', 680), ('which', 640), ('like', 624), ('their', 612), ('they', 586), ('some', 578), ('then', 571), ('when', 553), ('upon', 538), ('into', 520), ('ship', 507), ('more', 501), ('Ahab', 501), ('them', 471), ('what', 442), ('would', 421), ('been', 415), ('other', 412), ('over', 403)]\n"
     ]
    }
   ],
   "source": [
    "\n",
    "mc = sorted([w for w in vocab.most_common(80) if len(w[0]) > 3], key=lambda x: x[1], reverse=True)\n",
    "print(mc)"
   ]
  },
  {
   "cell_type": "code",
   "execution_count": 11,
   "metadata": {},
   "outputs": [
    {
     "data": {
      "image/png": "[encoded data removed]",
      "text/plain": [
       "<Figure size 432x288 with 1 Axes>"
      ]
     },
     "metadata": {
      "needs_background": "light"
     },
     "output_type": "display_data"
    }
   ],
   "source": [
    "text1.dispersion_plot(['capture', 'whale', 'life', 'death', 'kill'])"
   ]
  },
  {
   "cell_type": "code",
   "execution_count": 12,
   "metadata": {},
   "outputs": [
    {
     "name": "stdout",
     "output_type": "stream",
     "text": [
      "unmitigated.a.01 - not diminished or moderated in intensity or severity; sometimes used as an intensifier\n",
      "['unmitigated suffering', 'an unmitigated horror', 'an unmitigated lie']\n"
     ]
    }
   ],
   "source": [
    "\n",
    "from nltk.corpus import wordnet as wn\n",
    "w = wn.synsets(\"unmitigated\")[0]\n",
    "print(w.name(), '-', w.definition())\n",
    "print(w.examples())"
   ]
  },
  {
   "cell_type": "code",
   "execution_count": 32,
   "metadata": {},
   "outputs": [
    {
     "name": "stdout",
     "output_type": "stream",
     "text": [
      "godhead.n.01 - terms referring to the Judeo-Christian God\n",
      "[]\n"
     ]
    }
   ],
   "source": [
    "from nltk.corpus import wordnet as wn\n",
    "w2 = wn.synsets(\"creator\")[0]\n",
    "print(w2.name(), '-', w2.definition())\n",
    "print(w2.examples())"
   ]
  },
  {
   "cell_type": "code",
   "execution_count": 13,
   "metadata": {},
   "outputs": [
    {
     "name": "stdout",
     "output_type": "stream",
     "text": [
      "!\"#$%&'()*+,-./:;<=>?@[\\]^_`{|}~\n",
      "['i', 'me', 'my', 'myself', 'we', 'our', 'ours', 'ourselves', 'you', \"you're\", \"you've\", \"you'll\", \"you'd\", 'your', 'yours', 'yourself', 'yourselves', 'he', 'him', 'his', 'himself', 'she', \"she's\", 'her', 'hers', 'herself', 'it', \"it's\", 'its', 'itself', 'they', 'them', 'their', 'theirs', 'themselves', 'what', 'which', 'who', 'whom', 'this', 'that', \"that'll\", 'these', 'those', 'am', 'is', 'are', 'was', 'were', 'be', 'been', 'being', 'have', 'has', 'had', 'having', 'do', 'does', 'did', 'doing', 'a', 'an', 'the', 'and', 'but', 'if', 'or', 'because', 'as', 'until', 'while', 'of', 'at', 'by', 'for', 'with', 'about', 'against', 'between', 'into', 'through', 'during', 'before', 'after', 'above', 'below', 'to', 'from', 'up', 'down', 'in', 'out', 'on', 'off', 'over', 'under', 'again', 'further', 'then', 'once', 'here', 'there', 'when', 'where', 'why', 'how', 'all', 'any', 'both', 'each', 'few', 'more', 'most', 'other', 'some', 'such', 'no', 'nor', 'not', 'only', 'own', 'same', 'so', 'than', 'too', 'very', 's', 't', 'can', 'will', 'just', 'don', \"don't\", 'should', \"should've\", 'now', 'd', 'll', 'm', 'o', 're', 've', 'y', 'ain', 'aren', \"aren't\", 'couldn', \"couldn't\", 'didn', \"didn't\", 'doesn', \"doesn't\", 'hadn', \"hadn't\", 'hasn', \"hasn't\", 'haven', \"haven't\", 'isn', \"isn't\", 'ma', 'mightn', \"mightn't\", 'mustn', \"mustn't\", 'needn', \"needn't\", 'shan', \"shan't\", 'shouldn', \"shouldn't\", 'wasn', \"wasn't\", 'weren', \"weren't\", 'won', \"won't\", 'wouldn', \"wouldn't\"]\n",
      "260819\n",
      "221767\n",
      "122226\n"
     ]
    }
   ],
   "source": [
    "\n",
    "from string import punctuation\n",
    "print(punctuation)\n",
    "without_punct = [w for w in text1 if w not in punctuation]  # this is called a list comprehension\n",
    "\n",
    "from nltk.corpus import stopwords\n",
    "sw = stopwords.words('english')\n",
    "print(sw)\n",
    "without_sw = [w for w in without_punct if w not in sw] \n",
    "\n",
    "print(len(text1))\n",
    "print(len(without_punct))\n",
    "print(len(without_sw))"
   ]
  },
  {
   "cell_type": "code",
   "execution_count": 14,
   "metadata": {},
   "outputs": [
    {
     "name": "stdout",
     "output_type": "stream",
     "text": [
      "is is\n",
      "are are\n",
      "bought bought\n",
      "buys buy\n",
      "giving give\n",
      "jumps jump\n",
      "jumped jump\n",
      "birds bird\n",
      "do do\n",
      "does doe\n",
      "did did\n",
      "doing do\n"
     ]
    }
   ],
   "source": [
    "from nltk.stem.porter import PorterStemmer\n",
    "st = PorterStemmer()\n",
    "words = ['is', 'are', 'bought', 'buys', 'giving', 'jumps', 'jumped', 'birds', 'do', 'does', 'did', 'doing']\n",
    "for word in words:\n",
    "    print(word, st.stem(word))"
   ]
  },
  {
   "cell_type": "code",
   "execution_count": 15,
   "metadata": {},
   "outputs": [
    {
     "name": "stdout",
     "output_type": "stream",
     "text": [
      "is is\n",
      "are are\n",
      "bought bought\n",
      "buys buy\n",
      "giving giving\n",
      "jumps jump\n",
      "jumped jumped\n",
      "birds bird\n",
      "do do\n",
      "does doe\n",
      "did did\n",
      "doing doing\n"
     ]
    }
   ],
   "source": [
    "\n",
    "from nltk.stem import WordNetLemmatizer\n",
    "wnl = WordNetLemmatizer()\n",
    "words = ['is', 'are', 'bought', 'buys', 'giving', 'jumps', 'jumped', 'birds', 'do', 'does', 'did', 'doing']\n",
    "for word in words:\n",
    "    print(word, wnl.lemmatize(word))"
   ]
  },
  {
   "cell_type": "code",
   "execution_count": 16,
   "metadata": {},
   "outputs": [
    {
     "name": "stdout",
     "output_type": "stream",
     "text": [
      "['Hello.', 'I am Joe!', 'I like Python.', '263.5 is a big number.']\n",
      "['The', 'quick', 'brown', 'fox', 'jumps', 'over', 'the', 'lazy', 'dog', '.']\n"
     ]
    }
   ],
   "source": [
    "from nltk.tokenize import sent_tokenize, word_tokenize\n",
    "s = 'Hello. I am Joe! I like Python. 263.5 is a big number.'  # 4 sentences\n",
    "print(sent_tokenize(s))\n",
    "\n",
    "w = word_tokenize('The quick brown fox jumps over the lazy dog.')\n",
    "print(w)"
   ]
  },
  {
   "cell_type": "code",
   "execution_count": 45,
   "metadata": {},
   "outputs": [
    {
     "name": "stdout",
     "output_type": "stream",
     "text": [
      "['Those who believe in the unseen , keep up prayer and spend out of what We have given them.']\n",
      "['All', 'praise', 'is', 'due', 'to', 'Allah', ',', 'the', 'Lord', 'of', 'the', 'Worlds..']\n"
     ]
    }
   ],
   "source": [
    "from nltk.tokenize import sent_tokenize, word_tokenize\n",
    "s = 'Those who believe in the unseen , keep up prayer and spend out of what We have given them.'  \n",
    "print(sent_tokenize(s))\n",
    "\n",
    "w = word_tokenize('All praise is due to Allah, the Lord of the Worlds..')\n",
    "print(w)"
   ]
  },
  {
   "cell_type": "code",
   "execution_count": 17,
   "metadata": {},
   "outputs": [
    {
     "name": "stdout",
     "output_type": "stream",
     "text": [
      "['The', 'quick', 'brown', 'fox', 'jumps', 'over', 'the', 'lazy', 'dog', '.']\n",
      "[('The', 'DT'), ('quick', 'JJ'), ('brown', 'NN'), ('fox', 'NN'), ('jumps', 'VBZ'), ('over', 'IN'), ('the', 'DT'), ('lazy', 'JJ'), ('dog', 'NN'), ('.', '.')]\n",
      "[('The', 'DET'), ('quick', 'ADJ'), ('brown', 'NOUN'), ('fox', 'NOUN'), ('jumps', 'VERB'), ('over', 'ADP'), ('the', 'DET'), ('lazy', 'ADJ'), ('dog', 'NOUN'), ('.', '.')]\n"
     ]
    }
   ],
   "source": [
    "w = word_tokenize('The quick brown fox jumps over the lazy dog.')\n",
    "print(w)\n",
    "print(nltk.pos_tag(w))\n",
    "print(nltk.pos_tag(w, tagset='universal'))"
   ]
  },
  {
   "cell_type": "code",
   "execution_count": 34,
   "metadata": {},
   "outputs": [
    {
     "name": "stdout",
     "output_type": "stream",
     "text": [
      "[('Surely', 'RB'), ('the', 'DT'), ('Safa', 'NNP'), ('and', 'CC'), ('the', 'DT'), ('Marwa', 'NNP'), ('are', 'VBP'), ('among', 'IN'), ('the', 'DT'), ('signs', 'NNS'), ('appointed', 'VBN'), ('by', 'IN'), ('Allah', 'NNP'), ('.', '.')]\n",
      "[('Surely', 'ADV'), ('the', 'DET'), ('Safa', 'NOUN'), ('and', 'CONJ'), ('the', 'DET'), ('Marwa', 'NOUN'), ('are', 'VERB'), ('among', 'ADP'), ('the', 'DET'), ('signs', 'NOUN'), ('appointed', 'VERB'), ('by', 'ADP'), ('Allah', 'NOUN'), ('.', '.')]\n"
     ]
    }
   ],
   "source": [
    "w = word_tokenize('Surely the Safa and the Marwa are among the signs appointed by Allah.')\n",
    "\n",
    "print(nltk.pos_tag(w))\n",
    "print(nltk.pos_tag(w, tagset='universal'))"
   ]
  },
  {
   "cell_type": "code",
   "execution_count": 18,
   "metadata": {},
   "outputs": [
    {
     "name": "stdout",
     "output_type": "stream",
     "text": [
      "[('person', 0.9993754029273987), ('those', 0.998950719833374), ('favourable', 0.9989330768585205), ('delay', 0.9987244606018066), ('meaning', 0.9987176656723022), ('education', 0.9986957311630249)]\n",
      "[('hang', 0.9984008073806763), ('Now', 0.9983707666397095), ('bring', 0.9983663558959961), ('without', 0.9983623027801514), ('close', 0.9982515573501587), ('known', 0.9982489943504333)]\n"
     ]
    }
   ],
   "source": [
    "from gensim.models import Word2Vec\n",
    "emma_vec = Word2Vec(gutenberg.sents('austen-emma.txt'))\n",
    "leaves_vec = Word2Vec(gutenberg.sents('whitman-leaves.txt'))\n",
    "print(emma_vec.wv.most_similar('pain', topn=6))\n",
    "print(leaves_vec.wv.most_similar('pain', topn=6))"
   ]
  },
  {
   "cell_type": "code",
   "execution_count": 22,
   "metadata": {},
   "outputs": [
    {
     "name": "stdout",
     "output_type": "stream",
     "text": [
      "[('faces', 0.9922334551811218), ('gardens', 0.9916198253631592), ('burning', 0.9837712645530701), ('backs', 0.98277747631073), ('place', 0.9824647903442383), ('hell', 0.9819968938827515), ('like', 0.9818479418754578), ('remote', 0.9815667271614075), ('up', 0.9813157320022583), ('painful', 0.9808246493339539)]\n"
     ]
    }
   ],
   "source": [
    "from gensim.models import Word2Vec\n",
    "emma_vec2= Word2Vec(gutenberg.sents('en.shakir.txt'))\n",
    "\n",
    "print(emma_vec2.wv.most_similar('time', topn=10))\n"
   ]
  },
  {
   "cell_type": "code",
   "execution_count": 21,
   "metadata": {},
   "outputs": [
    {
     "name": "stdout",
     "output_type": "stream",
     "text": [
      "30103\n",
      "[('mercy', 0.9233381152153015),\n",
      " ('glory', 0.9060700535774231),\n",
      " ('truth', 0.905727744102478),\n",
      " ('covenant', 0.905300498008728),\n",
      " ('grace', 0.905130922794342),\n",
      " ('liveth', 0.9004040360450745),\n",
      " ('hosts', 0.8954605460166931),\n",
      " ('sinned', 0.8910338878631592)]\n",
      "[('making', 0.9796597361564636),\n",
      " ('vanities', 0.9794116616249084),\n",
      " ('tribulation', 0.9792682528495789),\n",
      " ('vexed', 0.9777440428733826),\n",
      " ('miracle', 0.9768252372741699)]\n"
     ]
    }
   ],
   "source": [
    "\n",
    "from gensim.models import Word2Vec\n",
    "from nltk.corpus import stopwords\n",
    "from string import punctuation\n",
    "import pprint as pp\n",
    "\n",
    "bible_sents = gutenberg.sents('bible-kjv.txt')\n",
    "sw = stopwords.words('english')\n",
    "bible = [[w.lower() for w in s if w not in punctuation and w not in sw] for s in bible_sents]\n",
    "print(len(bible))\n",
    "\n",
    "bible_vec = Word2Vec(bible)\n",
    "pp.pprint(bible_vec.wv.most_similar('god', topn=8))\n",
    "pp.pprint(bible_vec.wv.most_similar('creation', topn=5))"
   ]
  },
  {
   "cell_type": "code",
   "execution_count": 26,
   "metadata": {},
   "outputs": [
    {
     "name": "stdout",
     "output_type": "stream",
     "text": [
      "30103\n",
      "[('ways', 0.9716771841049194),\n",
      " ('truth', 0.9400230050086975),\n",
      " ('righteousness', 0.9387242794036865),\n",
      " ('soul', 0.9367058277130127),\n",
      " ('walk', 0.9361545443534851),\n",
      " ('witness', 0.9359215497970581),\n",
      " ('keep', 0.9350353479385376),\n",
      " ('commandments', 0.9304718971252441),\n",
      " ('live', 0.9297350645065308),\n",
      " ('righteous', 0.926730751991272)]\n",
      "[('sight', 0.9447048902511597),\n",
      " ('honour', 0.9440799951553345),\n",
      " ('works', 0.9389757513999939),\n",
      " ('strength', 0.937585175037384),\n",
      " ('everlasting', 0.9335757493972778),\n",
      " ('favour', 0.9307679533958435),\n",
      " ('giveth', 0.9291462898254395),\n",
      " ('anger', 0.9254267811775208),\n",
      " ('judgment', 0.9228942394256592),\n",
      " ('ceasing', 0.921241044998169)]\n"
     ]
    }
   ],
   "source": [
    "from gensim.models import Word2Vec\n",
    "from nltk.corpus import stopwords\n",
    "from string import punctuation\n",
    "import pprint as pp\n",
    "\n",
    "quran_sents = gutenberg.sents('en.shakir.txt')\n",
    "sw = stopwords.words('english')\n",
    "quran = [[w.lower() for w in s if w not in punctuation and w not in sw] for s in bible_sents]\n",
    "print(len(quran))\n",
    "\n",
    "quran_vec = Word2Vec(bible)\n",
    "pp.pprint(quran_vec.wv.most_similar('love', topn=10))\n",
    "pp.pprint(quran_vec.wv.most_similar('power', topn=10))"
   ]
  },
  {
   "cell_type": "code",
   "execution_count": 27,
   "metadata": {},
   "outputs": [
    {
     "name": "stdout",
     "output_type": "stream",
     "text": [
      "k-means trial 0\n",
      "iteration\n",
      "iteration\n",
      "Clustered: [array([2, 1]), array([1, 3]), array([4, 7]), array([6, 7])]\n",
      "As: [0, 0, 1, 1]\n",
      "Means: [array([1.5, 2. ]), array([5., 7.])]\n"
     ]
    }
   ],
   "source": [
    "\n",
    "import numpy as np\n",
    "from nltk.cluster import KMeansClusterer, euclidean_distance\n",
    "\n",
    "vectors = [np.array(f) for f in [[2, 1], [1, 3], [4, 7], [6, 7]]]\n",
    "means = [[4, 3], [5, 5]]\n",
    "\n",
    "clusterer = KMeansClusterer(2, euclidean_distance, initial_means=means)\n",
    "clusters = clusterer.cluster(vectors, True, trace=True)\n",
    "\n",
    "print('Clustered:', vectors)\n",
    "print('As:', clusters)\n",
    "print('Means:', clusterer.means())"
   ]
  },
  {
   "cell_type": "code",
   "execution_count": 28,
   "metadata": {},
   "outputs": [
    {
     "name": "stdout",
     "output_type": "stream",
     "text": [
      "Clustered: [array([3, 3]), array([1, 2]), array([4, 2]), array([4, 0]), array([2, 3]), array([3, 1])]\n",
      "As: [0, 0, 1, 1, 0, 1]\n",
      "Means: [array([1.5, 2.5]), array([3.5, 1.5])]\n",
      "classify([2 2]): 0\n"
     ]
    }
   ],
   "source": [
    "vectors = [np.array(f) for f in [[3, 3], [1, 2], [4, 2], [4, 0], [2, 3], [3, 1]]]\n",
    "\n",
    "# test k-means using 2 means, euclidean distance, and 10 trial clustering repetitions with random seeds\n",
    "clusterer = KMeansClusterer(2, euclidean_distance, repeats=10)\n",
    "clusters = clusterer.cluster(vectors, True)\n",
    "centroids = clusterer.means()\n",
    "print('Clustered:', vectors)\n",
    "print('As:', clusters)\n",
    "print('Means:', centroids)\n",
    "\n",
    "# classify a new vector\n",
    "vector = np.array([2,2])\n",
    "print('classify(%s):' % vector, end=' ')\n",
    "print(clusterer.classify(vector))"
   ]
  },
  {
   "cell_type": "code",
   "execution_count": 29,
   "metadata": {},
   "outputs": [
    {
     "data": {
      "image/png": "[encoded data removed]",
      "text/plain": [
       "<Figure size 432x288 with 1 Axes>"
      ]
     },
     "metadata": {
      "needs_background": "light"
     },
     "output_type": "display_data"
    }
   ],
   "source": [
    "import matplotlib.pyplot as plt\n",
    "\n",
    "x0 = np.array([x[0] for idx, x in enumerate(vectors) if clusters[idx]==0])\n",
    "y0 = np.array([x[1] for idx, x in enumerate(vectors) if clusters[idx]==0])\n",
    "plt.scatter(x0,y0, color='blue')\n",
    "x1 = np.array([x[0] for idx, x in enumerate(vectors) if clusters[idx]==1])\n",
    "y1 = np.array([x[1] for idx, x in enumerate(vectors) if clusters[idx]==1])\n",
    "plt.scatter(x1,y1, color='red')\n",
    "\n",
    "xc = np.array([x[0] for x in centroids])\n",
    "yc = np.array([x[1] for x in centroids])\n",
    "plt.scatter(xc,yc, color='orange')\n",
    "plt.show()"
   ]
  },
  {
   "cell_type": "code",
   "execution_count": 39,
   "metadata": {},
   "outputs": [],
   "source": [
    "from nltk.tokenize import word_tokenize"
   ]
  },
  {
   "cell_type": "code",
   "execution_count": 40,
   "metadata": {},
   "outputs": [],
   "source": [
    "s1 =\"There is a disease in their hearts, so Allah added to their disease and they shall have a painful chastisement because they lied\""
   ]
  },
  {
   "cell_type": "code",
   "execution_count": 41,
   "metadata": {},
   "outputs": [
    {
     "data": {
      "text/plain": [
       "['There',\n",
       " 'is',\n",
       " 'a',\n",
       " 'disease',\n",
       " 'in',\n",
       " 'their',\n",
       " 'hearts',\n",
       " ',',\n",
       " 'so',\n",
       " 'Allah',\n",
       " 'added',\n",
       " 'to',\n",
       " 'their',\n",
       " 'disease',\n",
       " 'and',\n",
       " 'they',\n",
       " 'shall',\n",
       " 'have',\n",
       " 'a',\n",
       " 'painful',\n",
       " 'chastisement',\n",
       " 'because',\n",
       " 'they',\n",
       " 'lied']"
      ]
     },
     "execution_count": 41,
     "metadata": {},
     "output_type": "execute_result"
    }
   ],
   "source": [
    "word_tokenize(s1)"
   ]
  },
  {
   "cell_type": "code",
   "execution_count": 30,
   "metadata": {},
   "outputs": [
    {
     "data": {
      "text/plain": [
       "['Monty', 'Python', 'and', 'the', 'Holy', 'Grail']"
      ]
     },
     "execution_count": 30,
     "metadata": {},
     "output_type": "execute_result"
    }
   ],
   "source": [
    "['Monty', 'Python'] + ['and', 'the', 'Holy', 'Grail']"
   ]
  },
  {
   "cell_type": "code",
   "execution_count": 38,
   "metadata": {},
   "outputs": [
    {
     "data": {
      "text/plain": [
       "['There', 'is', 'a', 'disease', 'in', 'their', 'hearts']"
      ]
     },
     "execution_count": 38,
     "metadata": {},
     "output_type": "execute_result"
    }
   ],
   "source": [
    "['There','is', 'a','disease']+['in','their', 'hearts',]"
   ]
  },
  {
   "cell_type": "code",
   "execution_count": null,
   "metadata": {},
   "outputs": [],
   "source": []
  }
 ],
 "metadata": {
  "kernelspec": {
   "display_name": "Python 3",
   "language": "python",
   "name": "python3"
  },
  "language_info": {
   "codemirror_mode": {
    "name": "ipython",
    "version": 3
   },
   "file_extension": ".py",
   "mimetype": "text/x-python",
   "name": "python",
   "nbconvert_exporter": "python",
   "pygments_lexer": "ipython3",
   "version": "3.7.4"
  }
 },
 "nbformat": 4,
 "nbformat_minor": 2
}
