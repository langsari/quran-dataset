{
 "metadata": {
  "language_info": {
   "codemirror_mode": {
    "name": "ipython",
    "version": 3
   },
   "file_extension": ".py",
   "mimetype": "text/x-python",
   "name": "python",
   "nbconvert_exporter": "python",
   "pygments_lexer": "ipython3",
   "version": "3.8.5-final"
  },
  "orig_nbformat": 2,
  "kernelspec": {
   "name": "python3",
   "display_name": "Python 3.8.5 64-bit (conda)",
   "metadata": {
    "interpreter": {
     "hash": "19c42b419cdef9110695f4d97cc764a5259ac9d160e90e86afe72b951c149915"
    }
   }
  }
 },
 "nbformat": 4,
 "nbformat_minor": 2,
 "cells": [
  {
   "cell_type": "code",
   "execution_count": 1,
   "metadata": {},
   "outputs": [],
   "source": [
    "import pandas as pd"
   ]
  },
  {
   "cell_type": "code",
   "execution_count": 2,
   "metadata": {},
   "outputs": [],
   "source": [
    "thaicsv = pd.read_csv('https://raw.githubusercontent.com/MEOW119X/Collect-files/main/quran/thai-translation/quran-thai-translation.csv')"
   ]
  },
  {
   "cell_type": "code",
   "execution_count": 3,
   "metadata": {},
   "outputs": [
    {
     "output_type": "execute_result",
     "data": {
      "text/plain": [
       "      Column1  Column2                                            Column3\n",
       "0           1        1  ด้วยพระนามของอัลลอฮฺ ผู้ทรงกรุณาปราณี ผู้ทรงเม...\n",
       "1           1        2  การสรรเสริญทั้งหลายนั้น เป็นสิทธิของอัลลอฮฺผู้...\n",
       "2           1        3                   ผู้ทรงกรุณาปราณี ผู้ทรงเมตตาเสมอ\n",
       "3           1        4                       ผู้ทรงอภิสิทธิ์แห่งวันตอบแทน\n",
       "4           1        5  เฉพาะพระองค์เท่านั้นที่พวกข้าพระองค์เคารพอิบาด...\n",
       "...       ...      ...                                                ...\n",
       "6231      114        2                              พระราชาแห่งมนุษย์ชาติ\n",
       "6232      114        3                          พระเป็นเจ้าแห่งมนุษย์ชาติ\n",
       "6233      114        4  ให้พ้นจากความชั่วร้ายของผู้กระซิบกระซาบที่หลอกล่อ\n",
       "6234      114        5                    ที่กระซิบกระซาบในหัวอกของมนุษย์\n",
       "6235      114        6                                จากหมู่ญินและมนุษย์\n",
       "\n",
       "[6236 rows x 3 columns]"
      ],
      "text/html": "<div>\n<style scoped>\n    .dataframe tbody tr th:only-of-type {\n        vertical-align: middle;\n    }\n\n    .dataframe tbody tr th {\n        vertical-align: top;\n    }\n\n    .dataframe thead th {\n        text-align: right;\n    }\n</style>\n<table border=\"1\" class=\"dataframe\">\n  <thead>\n    <tr style=\"text-align: right;\">\n      <th></th>\n      <th>Column1</th>\n      <th>Column2</th>\n      <th>Column3</th>\n    </tr>\n  </thead>\n  <tbody>\n    <tr>\n      <th>0</th>\n      <td>1</td>\n      <td>1</td>\n      <td>ด้วยพระนามของอัลลอฮฺ ผู้ทรงกรุณาปราณี ผู้ทรงเม...</td>\n    </tr>\n    <tr>\n      <th>1</th>\n      <td>1</td>\n      <td>2</td>\n      <td>การสรรเสริญทั้งหลายนั้น เป็นสิทธิของอัลลอฮฺผู้...</td>\n    </tr>\n    <tr>\n      <th>2</th>\n      <td>1</td>\n      <td>3</td>\n      <td>ผู้ทรงกรุณาปราณี ผู้ทรงเมตตาเสมอ</td>\n    </tr>\n    <tr>\n      <th>3</th>\n      <td>1</td>\n      <td>4</td>\n      <td>ผู้ทรงอภิสิทธิ์แห่งวันตอบแทน</td>\n    </tr>\n    <tr>\n      <th>4</th>\n      <td>1</td>\n      <td>5</td>\n      <td>เฉพาะพระองค์เท่านั้นที่พวกข้าพระองค์เคารพอิบาด...</td>\n    </tr>\n    <tr>\n      <th>...</th>\n      <td>...</td>\n      <td>...</td>\n      <td>...</td>\n    </tr>\n    <tr>\n      <th>6231</th>\n      <td>114</td>\n      <td>2</td>\n      <td>พระราชาแห่งมนุษย์ชาติ</td>\n    </tr>\n    <tr>\n      <th>6232</th>\n      <td>114</td>\n      <td>3</td>\n      <td>พระเป็นเจ้าแห่งมนุษย์ชาติ</td>\n    </tr>\n    <tr>\n      <th>6233</th>\n      <td>114</td>\n      <td>4</td>\n      <td>ให้พ้นจากความชั่วร้ายของผู้กระซิบกระซาบที่หลอกล่อ</td>\n    </tr>\n    <tr>\n      <th>6234</th>\n      <td>114</td>\n      <td>5</td>\n      <td>ที่กระซิบกระซาบในหัวอกของมนุษย์</td>\n    </tr>\n    <tr>\n      <th>6235</th>\n      <td>114</td>\n      <td>6</td>\n      <td>จากหมู่ญินและมนุษย์</td>\n    </tr>\n  </tbody>\n</table>\n<p>6236 rows × 3 columns</p>\n</div>"
     },
     "metadata": {},
     "execution_count": 3
    }
   ],
   "source": [
    "thaicsv"
   ]
  }
 ]
}