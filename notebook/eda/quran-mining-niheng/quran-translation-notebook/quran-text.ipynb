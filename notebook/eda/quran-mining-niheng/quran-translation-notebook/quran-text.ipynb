{
 "metadata": {
  "language_info": {
   "codemirror_mode": {
    "name": "ipython",
    "version": 3
   },
   "file_extension": ".py",
   "mimetype": "text/x-python",
   "name": "python",
   "nbconvert_exporter": "python",
   "pygments_lexer": "ipython3",
   "version": "3.8.5-final"
  },
  "orig_nbformat": 2,
  "kernelspec": {
   "name": "python3",
   "display_name": "Python 3.8.5 64-bit (conda)",
   "metadata": {
    "interpreter": {
     "hash": "19c42b419cdef9110695f4d97cc764a5259ac9d160e90e86afe72b951c149915"
    }
   }
  }
 },
 "nbformat": 4,
 "nbformat_minor": 2,
 "cells": [
  {
   "cell_type": "code",
   "execution_count": 8,
   "metadata": {},
   "outputs": [],
   "source": [
    "import pandas as pd\n",
    "import json"
   ]
  },
  {
   "cell_type": "code",
   "execution_count": 9,
   "metadata": {},
   "outputs": [],
   "source": [
    "quranjson = pd.read_json('https://raw.githubusercontent.com/risan/quran-json/master/json/quran/text.json')"
   ]
  },
  {
   "cell_type": "code",
   "execution_count": 10,
   "metadata": {},
   "outputs": [
    {
     "output_type": "execute_result",
     "data": {
      "text/plain": [
       "      surah_number  verse_number                                   content\n",
       "0                1             1    بِسْمِ ٱللَّهِ ٱلرَّحْمَٰنِ ٱلرَّحِيمِ\n",
       "1                1             2     ٱلْحَمْدُ لِلَّهِ رَبِّ ٱلْعَٰلَمِينَ\n",
       "2                1             3                   ٱلرَّحْمَٰنِ ٱلرَّحِيمِ\n",
       "3                1             4                   مَٰلِكِ يَوْمِ ٱلدِّينِ\n",
       "4                1             5  إِيَّاكَ نَعْبُدُ وَإِيَّاكَ نَسْتَعِينُ\n",
       "...            ...           ...                                       ...\n",
       "6231           114             2                           مَلِكِ ٱلنَّاسِ\n",
       "6232           114             3                          إِلَٰهِ ٱلنَّاسِ\n",
       "6233           114             4        مِن شَرِّ ٱلْوَسْوَاسِ ٱلْخَنَّاسِ\n",
       "6234           114             5   ٱلَّذِى يُوَسْوِسُ فِى صُدُورِ ٱلنَّاسِ\n",
       "6235           114             6                مِنَ ٱلْجِنَّةِ وَٱلنَّاسِ\n",
       "\n",
       "[6236 rows x 3 columns]"
      ],
      "text/html": "<div>\n<style scoped>\n    .dataframe tbody tr th:only-of-type {\n        vertical-align: middle;\n    }\n\n    .dataframe tbody tr th {\n        vertical-align: top;\n    }\n\n    .dataframe thead th {\n        text-align: right;\n    }\n</style>\n<table border=\"1\" class=\"dataframe\">\n  <thead>\n    <tr style=\"text-align: right;\">\n      <th></th>\n      <th>surah_number</th>\n      <th>verse_number</th>\n      <th>content</th>\n    </tr>\n  </thead>\n  <tbody>\n    <tr>\n      <th>0</th>\n      <td>1</td>\n      <td>1</td>\n      <td>بِسْمِ ٱللَّهِ ٱلرَّحْمَٰنِ ٱلرَّحِيمِ</td>\n    </tr>\n    <tr>\n      <th>1</th>\n      <td>1</td>\n      <td>2</td>\n      <td>ٱلْحَمْدُ لِلَّهِ رَبِّ ٱلْعَٰلَمِينَ</td>\n    </tr>\n    <tr>\n      <th>2</th>\n      <td>1</td>\n      <td>3</td>\n      <td>ٱلرَّحْمَٰنِ ٱلرَّحِيمِ</td>\n    </tr>\n    <tr>\n      <th>3</th>\n      <td>1</td>\n      <td>4</td>\n      <td>مَٰلِكِ يَوْمِ ٱلدِّينِ</td>\n    </tr>\n    <tr>\n      <th>4</th>\n      <td>1</td>\n      <td>5</td>\n      <td>إِيَّاكَ نَعْبُدُ وَإِيَّاكَ نَسْتَعِينُ</td>\n    </tr>\n    <tr>\n      <th>...</th>\n      <td>...</td>\n      <td>...</td>\n      <td>...</td>\n    </tr>\n    <tr>\n      <th>6231</th>\n      <td>114</td>\n      <td>2</td>\n      <td>مَلِكِ ٱلنَّاسِ</td>\n    </tr>\n    <tr>\n      <th>6232</th>\n      <td>114</td>\n      <td>3</td>\n      <td>إِلَٰهِ ٱلنَّاسِ</td>\n    </tr>\n    <tr>\n      <th>6233</th>\n      <td>114</td>\n      <td>4</td>\n      <td>مِن شَرِّ ٱلْوَسْوَاسِ ٱلْخَنَّاسِ</td>\n    </tr>\n    <tr>\n      <th>6234</th>\n      <td>114</td>\n      <td>5</td>\n      <td>ٱلَّذِى يُوَسْوِسُ فِى صُدُورِ ٱلنَّاسِ</td>\n    </tr>\n    <tr>\n      <th>6235</th>\n      <td>114</td>\n      <td>6</td>\n      <td>مِنَ ٱلْجِنَّةِ وَٱلنَّاسِ</td>\n    </tr>\n  </tbody>\n</table>\n<p>6236 rows × 3 columns</p>\n</div>"
     },
     "metadata": {},
     "execution_count": 10
    }
   ],
   "source": [
    "quranjson"
   ]
  }
 ]
}