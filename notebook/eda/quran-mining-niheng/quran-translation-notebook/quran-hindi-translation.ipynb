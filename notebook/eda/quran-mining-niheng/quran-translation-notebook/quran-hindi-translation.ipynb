{
 "metadata": {
  "language_info": {
   "codemirror_mode": {
    "name": "ipython",
    "version": 3
   },
   "file_extension": ".py",
   "mimetype": "text/x-python",
   "name": "python",
   "nbconvert_exporter": "python",
   "pygments_lexer": "ipython3",
   "version": "3.8.5-final"
  },
  "orig_nbformat": 2,
  "kernelspec": {
   "name": "python3",
   "display_name": "Python 3"
  }
 },
 "nbformat": 4,
 "nbformat_minor": 2,
 "cells": [
  {
   "cell_type": "code",
   "execution_count": 1,
   "metadata": {},
   "outputs": [],
   "source": [
    "import pandas as pd"
   ]
  },
  {
   "cell_type": "code",
   "execution_count": 2,
   "metadata": {},
   "outputs": [],
   "source": [
    "hindicsv = pd.read_csv('https://raw.githubusercontent.com/MEOW119X/Collect-files/main/quran/hindi-translation/quran-hindi-translation.csv')"
   ]
  },
  {
   "cell_type": "code",
   "execution_count": 3,
   "metadata": {},
   "outputs": [
    {
     "output_type": "execute_result",
     "data": {
      "text/plain": [
       "      Column1  Column2                                            Column3\n",
       "0           1        1  പരമകാരുണികനും കരുണാനിധിയുമായ അല്ലാഹുവിന്റെ നാമ...\n",
       "1           1        2  സ്തുതി സര്‍വ്വലോക പരിപാലകനായ അല്ലാഹുവിന്നാകുന്നു.\n",
       "2           1        3                        പരമകാരുണികനും കരുണാനിധിയും.\n",
       "3           1        4                    പ്രതിഫല ദിവസത്തിന്റെ ഉടമസ്ഥന്‍.\n",
       "4           1        5  നിന്നെ മാത്രം ഞങ്ങള്‍ ആരാധിക്കുന്നു. നിന്നോട് ...\n",
       "...       ...      ...                                                ...\n",
       "6231      114        2                            മനുഷ്യരുടെ രാജാവിനോട്‌.\n",
       "6232      114        3                             മനുഷ്യരുടെ ദൈവത്തോട്‌.\n",
       "6233      114        4  ദുര്‍ബോധനം നടത്തി പിന്‍മാറിക്കളയുന്നവരെക്കൊണ്ട...\n",
       "6234      114        5  മനുഷ്യരുടെ ഹൃദയങ്ങളില്‍ ദുര്‍ബോധനം നടത്തുന്നവര്‍.\n",
       "6235      114        6                മനുഷ്യരിലും ജിന്നുകളിലും പെട്ടവര്‍.\n",
       "\n",
       "[6236 rows x 3 columns]"
      ],
      "text/html": "<div>\n<style scoped>\n    .dataframe tbody tr th:only-of-type {\n        vertical-align: middle;\n    }\n\n    .dataframe tbody tr th {\n        vertical-align: top;\n    }\n\n    .dataframe thead th {\n        text-align: right;\n    }\n</style>\n<table border=\"1\" class=\"dataframe\">\n  <thead>\n    <tr style=\"text-align: right;\">\n      <th></th>\n      <th>Column1</th>\n      <th>Column2</th>\n      <th>Column3</th>\n    </tr>\n  </thead>\n  <tbody>\n    <tr>\n      <th>0</th>\n      <td>1</td>\n      <td>1</td>\n      <td>പരമകാരുണികനും കരുണാനിധിയുമായ അല്ലാഹുവിന്റെ നാമ...</td>\n    </tr>\n    <tr>\n      <th>1</th>\n      <td>1</td>\n      <td>2</td>\n      <td>സ്തുതി സര്‍വ്വലോക പരിപാലകനായ അല്ലാഹുവിന്നാകുന്നു.</td>\n    </tr>\n    <tr>\n      <th>2</th>\n      <td>1</td>\n      <td>3</td>\n      <td>പരമകാരുണികനും കരുണാനിധിയും.</td>\n    </tr>\n    <tr>\n      <th>3</th>\n      <td>1</td>\n      <td>4</td>\n      <td>പ്രതിഫല ദിവസത്തിന്റെ ഉടമസ്ഥന്‍.</td>\n    </tr>\n    <tr>\n      <th>4</th>\n      <td>1</td>\n      <td>5</td>\n      <td>നിന്നെ മാത്രം ഞങ്ങള്‍ ആരാധിക്കുന്നു. നിന്നോട് ...</td>\n    </tr>\n    <tr>\n      <th>...</th>\n      <td>...</td>\n      <td>...</td>\n      <td>...</td>\n    </tr>\n    <tr>\n      <th>6231</th>\n      <td>114</td>\n      <td>2</td>\n      <td>മനുഷ്യരുടെ രാജാവിനോട്‌.</td>\n    </tr>\n    <tr>\n      <th>6232</th>\n      <td>114</td>\n      <td>3</td>\n      <td>മനുഷ്യരുടെ ദൈവത്തോട്‌.</td>\n    </tr>\n    <tr>\n      <th>6233</th>\n      <td>114</td>\n      <td>4</td>\n      <td>ദുര്‍ബോധനം നടത്തി പിന്‍മാറിക്കളയുന്നവരെക്കൊണ്ട...</td>\n    </tr>\n    <tr>\n      <th>6234</th>\n      <td>114</td>\n      <td>5</td>\n      <td>മനുഷ്യരുടെ ഹൃദയങ്ങളില്‍ ദുര്‍ബോധനം നടത്തുന്നവര്‍.</td>\n    </tr>\n    <tr>\n      <th>6235</th>\n      <td>114</td>\n      <td>6</td>\n      <td>മനുഷ്യരിലും ജിന്നുകളിലും പെട്ടവര്‍.</td>\n    </tr>\n  </tbody>\n</table>\n<p>6236 rows × 3 columns</p>\n</div>"
     },
     "metadata": {},
     "execution_count": 3
    }
   ],
   "source": [
    "hindicsv"
   ]
  }
 ]
}